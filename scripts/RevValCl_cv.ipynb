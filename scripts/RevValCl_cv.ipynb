{
  "nbformat": 4,
  "nbformat_minor": 0,
  "metadata": {
    "kernelspec": {
      "display_name": "Python 3",
      "language": "python",
      "name": "python3"
    },
    "language_info": {
      "codemirror_mode": {
        "name": "ipython",
        "version": 3
      },
      "file_extension": ".py",
      "mimetype": "text/x-python",
      "name": "python",
      "nbconvert_exporter": "python",
      "pygments_lexer": "ipython3",
      "version": "3.8.3"
    },
    "colab": {
      "name": "RevValCl_cv.ipynb",
      "provenance": []
    }
  },
  "cells": [
    {
      "cell_type": "markdown",
      "metadata": {
        "id": "YKYQ8DkhAXQ1"
      },
      "source": [
        "# MIBC multiclass classifier "
      ]
    },
    {
      "cell_type": "markdown",
      "metadata": {
        "id": "ch9RZ2ZiAXQ2"
      },
      "source": [
        "_____________________________________________________________________________________________________________________________________________"
      ]
    },
    {
      "cell_type": "markdown",
      "metadata": {
        "id": "XLTzPp1TAXQ3"
      },
      "source": [
        "### 1- Data wrangling"
      ]
    },
    {
      "cell_type": "markdown",
      "metadata": {
        "id": "QZbczqcSAXQ3"
      },
      "source": [
        "The data set that Iused for this job is coming from Sjödahl et.al J Pathol 2017; 242: 113–125. "
      ]
    },
    {
      "cell_type": "code",
      "metadata": {
        "id": "pPZPUsNuAXQ3"
      },
      "source": [
        "# Import libraries\n",
        "import numpy as np\n",
        "import pandas as pd\n",
        "import os as os "
      ],
      "execution_count": 2,
      "outputs": []
    },
    {
      "cell_type": "code",
      "metadata": {
        "colab": {
          "resources": {
            "http://localhost:8080/nbextensions/google.colab/files.js": {
              "data": "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",
              "ok": true,
              "headers": [
                [
                  "content-type",
                  "application/javascript"
                ]
              ],
              "status": 200,
              "status_text": ""
            }
          },
          "base_uri": "https://localhost:8080/",
          "height": 74
        },
        "id": "M9ftegRCAXQ3",
        "outputId": "a1f57a9a-1457-4d16-d74f-d2b5f4b8909e"
      },
      "source": [
        "from google.colab import files\n",
        "uploaded = files.upload()"
      ],
      "execution_count": 3,
      "outputs": [
        {
          "output_type": "display_data",
          "data": {
            "text/html": [
              "\n",
              "     <input type=\"file\" id=\"files-5825dd11-7ae2-4b07-ace2-25782024e8e4\" name=\"files[]\" multiple disabled\n",
              "        style=\"border:none\" />\n",
              "     <output id=\"result-5825dd11-7ae2-4b07-ace2-25782024e8e4\">\n",
              "      Upload widget is only available when the cell has been executed in the\n",
              "      current browser session. Please rerun this cell to enable.\n",
              "      </output>\n",
              "      <script src=\"/nbextensions/google.colab/files.js\"></script> "
            ],
            "text/plain": [
              "<IPython.core.display.HTML object>"
            ]
          },
          "metadata": {
            "tags": []
          }
        },
        {
          "output_type": "stream",
          "text": [
            "Saving JPATH_MIBC_24Markers_Scaled_193.csv to JPATH_MIBC_24Markers_Scaled_193.csv\n"
          ],
          "name": "stdout"
        }
      ]
    },
    {
      "cell_type": "code",
      "metadata": {
        "colab": {
          "base_uri": "https://localhost:8080/",
          "height": 223
        },
        "id": "JVPhEF0ABbiH",
        "outputId": "e72543ad-3b7a-495a-c333-68fcfd80e408"
      },
      "source": [
        "# store data into a variable\n",
        "data = pd.read_csv(\"JPATH_MIBC_24Markers_Scaled_193.csv\")\n",
        "data.head()"
      ],
      "execution_count": 4,
      "outputs": [
        {
          "output_type": "execute_result",
          "data": {
            "text/html": [
              "<div>\n",
              "<style scoped>\n",
              "    .dataframe tbody tr th:only-of-type {\n",
              "        vertical-align: middle;\n",
              "    }\n",
              "\n",
              "    .dataframe tbody tr th {\n",
              "        vertical-align: top;\n",
              "    }\n",
              "\n",
              "    .dataframe thead th {\n",
              "        text-align: right;\n",
              "    }\n",
              "</style>\n",
              "<table border=\"1\" class=\"dataframe\">\n",
              "  <thead>\n",
              "    <tr style=\"text-align: right;\">\n",
              "      <th></th>\n",
              "      <th>IHC.subtype</th>\n",
              "      <th>GATA3_norm</th>\n",
              "      <th>CK5_norm</th>\n",
              "      <th>p16_norm</th>\n",
              "      <th>CCNB1_norm</th>\n",
              "      <th>CCND1_norm</th>\n",
              "      <th>CDH1_norm</th>\n",
              "      <th>CDH3_norm</th>\n",
              "      <th>CHGA_norm</th>\n",
              "      <th>E2F3_norm</th>\n",
              "      <th>EPCAM_norm</th>\n",
              "      <th>FGFR3_norm</th>\n",
              "      <th>FOXA1_norm</th>\n",
              "      <th>KRT14_norm</th>\n",
              "      <th>KRT20_norm</th>\n",
              "      <th>NCAM1_norm</th>\n",
              "      <th>PPARG_norm</th>\n",
              "      <th>RB1_norm</th>\n",
              "      <th>RXRA_norm</th>\n",
              "      <th>SYP_norm</th>\n",
              "      <th>TP63_norm</th>\n",
              "      <th>TUBB2B_norm</th>\n",
              "      <th>UPK3_norm</th>\n",
              "      <th>VIM_norm</th>\n",
              "      <th>ZEB2_norm</th>\n",
              "    </tr>\n",
              "  </thead>\n",
              "  <tbody>\n",
              "    <tr>\n",
              "      <th>0</th>\n",
              "      <td>BaSq</td>\n",
              "      <td>0.055556</td>\n",
              "      <td>1.000000</td>\n",
              "      <td>0.333333</td>\n",
              "      <td>0.555556</td>\n",
              "      <td>1.000000</td>\n",
              "      <td>0.833333</td>\n",
              "      <td>1.000000</td>\n",
              "      <td>0.0</td>\n",
              "      <td>0.185185</td>\n",
              "      <td>0.444444</td>\n",
              "      <td>0.666667</td>\n",
              "      <td>0.333333</td>\n",
              "      <td>1.000000</td>\n",
              "      <td>0.0</td>\n",
              "      <td>0.000000</td>\n",
              "      <td>0.000000</td>\n",
              "      <td>1.0</td>\n",
              "      <td>0.296296</td>\n",
              "      <td>0.0</td>\n",
              "      <td>1.000000</td>\n",
              "      <td>0.740741</td>\n",
              "      <td>0.0</td>\n",
              "      <td>0.500000</td>\n",
              "      <td>0.000000</td>\n",
              "    </tr>\n",
              "    <tr>\n",
              "      <th>1</th>\n",
              "      <td>BaSq</td>\n",
              "      <td>0.314815</td>\n",
              "      <td>1.000000</td>\n",
              "      <td>1.000000</td>\n",
              "      <td>0.555556</td>\n",
              "      <td>0.000000</td>\n",
              "      <td>0.666667</td>\n",
              "      <td>0.592593</td>\n",
              "      <td>0.0</td>\n",
              "      <td>0.203704</td>\n",
              "      <td>0.555556</td>\n",
              "      <td>0.500000</td>\n",
              "      <td>0.000000</td>\n",
              "      <td>0.000000</td>\n",
              "      <td>0.0</td>\n",
              "      <td>0.000000</td>\n",
              "      <td>0.000000</td>\n",
              "      <td>0.0</td>\n",
              "      <td>0.185185</td>\n",
              "      <td>0.0</td>\n",
              "      <td>1.000000</td>\n",
              "      <td>0.370370</td>\n",
              "      <td>0.0</td>\n",
              "      <td>0.000000</td>\n",
              "      <td>0.333333</td>\n",
              "    </tr>\n",
              "    <tr>\n",
              "      <th>2</th>\n",
              "      <td>BaSq</td>\n",
              "      <td>0.000000</td>\n",
              "      <td>1.000000</td>\n",
              "      <td>0.500000</td>\n",
              "      <td>0.388889</td>\n",
              "      <td>0.000000</td>\n",
              "      <td>1.000000</td>\n",
              "      <td>1.000000</td>\n",
              "      <td>0.0</td>\n",
              "      <td>0.277778</td>\n",
              "      <td>0.203704</td>\n",
              "      <td>0.000000</td>\n",
              "      <td>0.000000</td>\n",
              "      <td>1.000000</td>\n",
              "      <td>0.0</td>\n",
              "      <td>0.000000</td>\n",
              "      <td>0.000000</td>\n",
              "      <td>0.0</td>\n",
              "      <td>0.000000</td>\n",
              "      <td>0.0</td>\n",
              "      <td>1.000000</td>\n",
              "      <td>0.185185</td>\n",
              "      <td>0.0</td>\n",
              "      <td>0.018519</td>\n",
              "      <td>0.000000</td>\n",
              "    </tr>\n",
              "    <tr>\n",
              "      <th>3</th>\n",
              "      <td>Uro</td>\n",
              "      <td>0.833333</td>\n",
              "      <td>0.444444</td>\n",
              "      <td>0.166667</td>\n",
              "      <td>0.166667</td>\n",
              "      <td>0.888889</td>\n",
              "      <td>1.000000</td>\n",
              "      <td>0.666667</td>\n",
              "      <td>0.0</td>\n",
              "      <td>0.092593</td>\n",
              "      <td>0.574074</td>\n",
              "      <td>0.333333</td>\n",
              "      <td>1.000000</td>\n",
              "      <td>0.018519</td>\n",
              "      <td>0.0</td>\n",
              "      <td>0.000000</td>\n",
              "      <td>0.592593</td>\n",
              "      <td>1.0</td>\n",
              "      <td>0.259259</td>\n",
              "      <td>0.0</td>\n",
              "      <td>0.888889</td>\n",
              "      <td>0.000000</td>\n",
              "      <td>0.0</td>\n",
              "      <td>0.111111</td>\n",
              "      <td>0.000000</td>\n",
              "    </tr>\n",
              "    <tr>\n",
              "      <th>4</th>\n",
              "      <td>BaSq</td>\n",
              "      <td>0.222222</td>\n",
              "      <td>0.833333</td>\n",
              "      <td>0.333333</td>\n",
              "      <td>0.444444</td>\n",
              "      <td>0.481481</td>\n",
              "      <td>0.666667</td>\n",
              "      <td>0.833333</td>\n",
              "      <td>0.0</td>\n",
              "      <td>0.092593</td>\n",
              "      <td>0.888889</td>\n",
              "      <td>0.000000</td>\n",
              "      <td>0.166667</td>\n",
              "      <td>1.000000</td>\n",
              "      <td>0.0</td>\n",
              "      <td>0.018519</td>\n",
              "      <td>0.000000</td>\n",
              "      <td>1.0</td>\n",
              "      <td>0.000000</td>\n",
              "      <td>0.0</td>\n",
              "      <td>1.000000</td>\n",
              "      <td>0.185185</td>\n",
              "      <td>0.0</td>\n",
              "      <td>0.259259</td>\n",
              "      <td>0.000000</td>\n",
              "    </tr>\n",
              "  </tbody>\n",
              "</table>\n",
              "</div>"
            ],
            "text/plain": [
              "  IHC.subtype  GATA3_norm  CK5_norm  ...  UPK3_norm  VIM_norm  ZEB2_norm\n",
              "0        BaSq    0.055556  1.000000  ...        0.0  0.500000   0.000000\n",
              "1        BaSq    0.314815  1.000000  ...        0.0  0.000000   0.333333\n",
              "2        BaSq    0.000000  1.000000  ...        0.0  0.018519   0.000000\n",
              "3         Uro    0.833333  0.444444  ...        0.0  0.111111   0.000000\n",
              "4        BaSq    0.222222  0.833333  ...        0.0  0.259259   0.000000\n",
              "\n",
              "[5 rows x 25 columns]"
            ]
          },
          "metadata": {
            "tags": []
          },
          "execution_count": 4
        }
      ]
    },
    {
      "cell_type": "code",
      "metadata": {
        "id": "L7aUtlJZAXQ4"
      },
      "source": [
        "#data.columns\n",
        "\n",
        "data.columns = ['Subtype_IHC', 'GATA3', 'CK5', 'p16', 'CCNB1','CCND1', 'CDH1', 'CDH3', 'CHGA', 'E2F3','EPCAM',\n",
        " 'FGFR3', 'FOXA1', 'KRT14', 'KRT20','NCAM1', 'PPARG', 'RB1', 'RXRA', 'SYP','TP63', 'TUBB2B', 'UPK3',\n",
        " 'VIM', 'ZEB2']\n",
        "#data.head()"
      ],
      "execution_count": 6,
      "outputs": []
    },
    {
      "cell_type": "code",
      "metadata": {
        "colab": {
          "base_uri": "https://localhost:8080/"
        },
        "id": "SYBwflV6AXQ5",
        "outputId": "68269777-7f31-49c3-8b57-5eca67bd1ea4"
      },
      "source": [
        "print(data.shape)"
      ],
      "execution_count": 8,
      "outputs": [
        {
          "output_type": "stream",
          "text": [
            "(193, 25)\n"
          ],
          "name": "stdout"
        }
      ]
    },
    {
      "cell_type": "code",
      "metadata": {
        "colab": {
          "base_uri": "https://localhost:8080/",
          "height": 223
        },
        "id": "RUXmaDQuAXQ5",
        "outputId": "3ecd17ad-738b-4a34-e2ca-363d9ad64607"
      },
      "source": [
        "# slicing based on columns\n",
        "d = data.iloc[:, 1:25]\n",
        "\n",
        "# imputing missing values by mean of columns\n",
        "d.fillna(d.mean(), inplace = True)\n",
        "\n",
        "#print(d.isnull().sum())\n",
        "d.head()"
      ],
      "execution_count": 9,
      "outputs": [
        {
          "output_type": "execute_result",
          "data": {
            "text/html": [
              "<div>\n",
              "<style scoped>\n",
              "    .dataframe tbody tr th:only-of-type {\n",
              "        vertical-align: middle;\n",
              "    }\n",
              "\n",
              "    .dataframe tbody tr th {\n",
              "        vertical-align: top;\n",
              "    }\n",
              "\n",
              "    .dataframe thead th {\n",
              "        text-align: right;\n",
              "    }\n",
              "</style>\n",
              "<table border=\"1\" class=\"dataframe\">\n",
              "  <thead>\n",
              "    <tr style=\"text-align: right;\">\n",
              "      <th></th>\n",
              "      <th>GATA3</th>\n",
              "      <th>CK5</th>\n",
              "      <th>p16</th>\n",
              "      <th>CCNB1</th>\n",
              "      <th>CCND1</th>\n",
              "      <th>CDH1</th>\n",
              "      <th>CDH3</th>\n",
              "      <th>CHGA</th>\n",
              "      <th>E2F3</th>\n",
              "      <th>EPCAM</th>\n",
              "      <th>FGFR3</th>\n",
              "      <th>FOXA1</th>\n",
              "      <th>KRT14</th>\n",
              "      <th>KRT20</th>\n",
              "      <th>NCAM1</th>\n",
              "      <th>PPARG</th>\n",
              "      <th>RB1</th>\n",
              "      <th>RXRA</th>\n",
              "      <th>SYP</th>\n",
              "      <th>TP63</th>\n",
              "      <th>TUBB2B</th>\n",
              "      <th>UPK3</th>\n",
              "      <th>VIM</th>\n",
              "      <th>ZEB2</th>\n",
              "    </tr>\n",
              "  </thead>\n",
              "  <tbody>\n",
              "    <tr>\n",
              "      <th>0</th>\n",
              "      <td>0.055556</td>\n",
              "      <td>1.000000</td>\n",
              "      <td>0.333333</td>\n",
              "      <td>0.555556</td>\n",
              "      <td>1.000000</td>\n",
              "      <td>0.833333</td>\n",
              "      <td>1.000000</td>\n",
              "      <td>0.0</td>\n",
              "      <td>0.185185</td>\n",
              "      <td>0.444444</td>\n",
              "      <td>0.666667</td>\n",
              "      <td>0.333333</td>\n",
              "      <td>1.000000</td>\n",
              "      <td>0.0</td>\n",
              "      <td>0.000000</td>\n",
              "      <td>0.000000</td>\n",
              "      <td>1.0</td>\n",
              "      <td>0.296296</td>\n",
              "      <td>0.0</td>\n",
              "      <td>1.000000</td>\n",
              "      <td>0.740741</td>\n",
              "      <td>0.0</td>\n",
              "      <td>0.500000</td>\n",
              "      <td>0.000000</td>\n",
              "    </tr>\n",
              "    <tr>\n",
              "      <th>1</th>\n",
              "      <td>0.314815</td>\n",
              "      <td>1.000000</td>\n",
              "      <td>1.000000</td>\n",
              "      <td>0.555556</td>\n",
              "      <td>0.000000</td>\n",
              "      <td>0.666667</td>\n",
              "      <td>0.592593</td>\n",
              "      <td>0.0</td>\n",
              "      <td>0.203704</td>\n",
              "      <td>0.555556</td>\n",
              "      <td>0.500000</td>\n",
              "      <td>0.000000</td>\n",
              "      <td>0.000000</td>\n",
              "      <td>0.0</td>\n",
              "      <td>0.000000</td>\n",
              "      <td>0.000000</td>\n",
              "      <td>0.0</td>\n",
              "      <td>0.185185</td>\n",
              "      <td>0.0</td>\n",
              "      <td>1.000000</td>\n",
              "      <td>0.370370</td>\n",
              "      <td>0.0</td>\n",
              "      <td>0.000000</td>\n",
              "      <td>0.333333</td>\n",
              "    </tr>\n",
              "    <tr>\n",
              "      <th>2</th>\n",
              "      <td>0.000000</td>\n",
              "      <td>1.000000</td>\n",
              "      <td>0.500000</td>\n",
              "      <td>0.388889</td>\n",
              "      <td>0.000000</td>\n",
              "      <td>1.000000</td>\n",
              "      <td>1.000000</td>\n",
              "      <td>0.0</td>\n",
              "      <td>0.277778</td>\n",
              "      <td>0.203704</td>\n",
              "      <td>0.000000</td>\n",
              "      <td>0.000000</td>\n",
              "      <td>1.000000</td>\n",
              "      <td>0.0</td>\n",
              "      <td>0.000000</td>\n",
              "      <td>0.000000</td>\n",
              "      <td>0.0</td>\n",
              "      <td>0.000000</td>\n",
              "      <td>0.0</td>\n",
              "      <td>1.000000</td>\n",
              "      <td>0.185185</td>\n",
              "      <td>0.0</td>\n",
              "      <td>0.018519</td>\n",
              "      <td>0.000000</td>\n",
              "    </tr>\n",
              "    <tr>\n",
              "      <th>3</th>\n",
              "      <td>0.833333</td>\n",
              "      <td>0.444444</td>\n",
              "      <td>0.166667</td>\n",
              "      <td>0.166667</td>\n",
              "      <td>0.888889</td>\n",
              "      <td>1.000000</td>\n",
              "      <td>0.666667</td>\n",
              "      <td>0.0</td>\n",
              "      <td>0.092593</td>\n",
              "      <td>0.574074</td>\n",
              "      <td>0.333333</td>\n",
              "      <td>1.000000</td>\n",
              "      <td>0.018519</td>\n",
              "      <td>0.0</td>\n",
              "      <td>0.000000</td>\n",
              "      <td>0.592593</td>\n",
              "      <td>1.0</td>\n",
              "      <td>0.259259</td>\n",
              "      <td>0.0</td>\n",
              "      <td>0.888889</td>\n",
              "      <td>0.000000</td>\n",
              "      <td>0.0</td>\n",
              "      <td>0.111111</td>\n",
              "      <td>0.000000</td>\n",
              "    </tr>\n",
              "    <tr>\n",
              "      <th>4</th>\n",
              "      <td>0.222222</td>\n",
              "      <td>0.833333</td>\n",
              "      <td>0.333333</td>\n",
              "      <td>0.444444</td>\n",
              "      <td>0.481481</td>\n",
              "      <td>0.666667</td>\n",
              "      <td>0.833333</td>\n",
              "      <td>0.0</td>\n",
              "      <td>0.092593</td>\n",
              "      <td>0.888889</td>\n",
              "      <td>0.000000</td>\n",
              "      <td>0.166667</td>\n",
              "      <td>1.000000</td>\n",
              "      <td>0.0</td>\n",
              "      <td>0.018519</td>\n",
              "      <td>0.000000</td>\n",
              "      <td>1.0</td>\n",
              "      <td>0.000000</td>\n",
              "      <td>0.0</td>\n",
              "      <td>1.000000</td>\n",
              "      <td>0.185185</td>\n",
              "      <td>0.0</td>\n",
              "      <td>0.259259</td>\n",
              "      <td>0.000000</td>\n",
              "    </tr>\n",
              "  </tbody>\n",
              "</table>\n",
              "</div>"
            ],
            "text/plain": [
              "      GATA3       CK5       p16     CCNB1  ...    TUBB2B  UPK3       VIM      ZEB2\n",
              "0  0.055556  1.000000  0.333333  0.555556  ...  0.740741   0.0  0.500000  0.000000\n",
              "1  0.314815  1.000000  1.000000  0.555556  ...  0.370370   0.0  0.000000  0.333333\n",
              "2  0.000000  1.000000  0.500000  0.388889  ...  0.185185   0.0  0.018519  0.000000\n",
              "3  0.833333  0.444444  0.166667  0.166667  ...  0.000000   0.0  0.111111  0.000000\n",
              "4  0.222222  0.833333  0.333333  0.444444  ...  0.185185   0.0  0.259259  0.000000\n",
              "\n",
              "[5 rows x 24 columns]"
            ]
          },
          "metadata": {
            "tags": []
          },
          "execution_count": 9
        }
      ]
    },
    {
      "cell_type": "code",
      "metadata": {
        "id": "PU9XIrQfAXQ5"
      },
      "source": [
        "# replace a part of data farme by othe dataframe\n",
        "\n",
        "data = pd.concat([data.iloc[:, 0], d], axis=1)\n",
        "\n",
        "#print(data.isnull().sum())"
      ],
      "execution_count": 10,
      "outputs": []
    },
    {
      "cell_type": "code",
      "metadata": {
        "colab": {
          "base_uri": "https://localhost:8080/"
        },
        "id": "A6IiD0dSAXQ5",
        "outputId": "21e33c08-e177-4bfe-a24e-73506a93f83d"
      },
      "source": [
        "# drop values from subtype_IHC column\n",
        "data = data.drop(data[(data['Subtype_IHC'] == 'Mes-L') | (data['Subtype_IHC'] == 'Sc/NE')].index)\n",
        "print(data.Subtype_IHC.value_counts())\n"
      ],
      "execution_count": 11,
      "outputs": [
        {
          "output_type": "stream",
          "text": [
            "Uro     82\n",
            "GU      54\n",
            "BaSq    41\n",
            "Name: Subtype_IHC, dtype: int64\n"
          ],
          "name": "stdout"
        }
      ]
    },
    {
      "cell_type": "code",
      "metadata": {
        "colab": {
          "base_uri": "https://localhost:8080/"
        },
        "id": "LSvXRmVDAXQ6",
        "outputId": "315ef5ac-79a3-493e-8721-7ebdc8ef23b9"
      },
      "source": [
        "data.columns"
      ],
      "execution_count": 12,
      "outputs": [
        {
          "output_type": "execute_result",
          "data": {
            "text/plain": [
              "Index(['Subtype_IHC', 'GATA3', 'CK5', 'p16', 'CCNB1', 'CCND1', 'CDH1', 'CDH3',\n",
              "       'CHGA', 'E2F3', 'EPCAM', 'FGFR3', 'FOXA1', 'KRT14', 'KRT20', 'NCAM1',\n",
              "       'PPARG', 'RB1', 'RXRA', 'SYP', 'TP63', 'TUBB2B', 'UPK3', 'VIM', 'ZEB2'],\n",
              "      dtype='object')"
            ]
          },
          "metadata": {
            "tags": []
          },
          "execution_count": 12
        }
      ]
    },
    {
      "cell_type": "code",
      "metadata": {
        "id": "aSkEbedjAXQ6"
      },
      "source": [
        "# feature selection based on ROC analysis:\n",
        "## KRT14, KRT5, CDH3, FOXA1, GATA3, PPARG, EPCAM for Uro vs. Bas [AUC > 80%]\n",
        "## RB1 , CCND1, p16, TP63 for Uro vs. Gu [AUC > 80%]\n",
        "## CK5, KRT14, CDH3, FOXA1, GATA3, EPCAM, TP63 ,PPARG for GU vs. Bas [AUC > 80%]\n"
      ],
      "execution_count": 13,
      "outputs": []
    },
    {
      "cell_type": "markdown",
      "metadata": {
        "id": "WXFqZV6oAXQ7"
      },
      "source": [
        "_____________________________________________________________________________________________________________________________________________"
      ]
    },
    {
      "cell_type": "markdown",
      "metadata": {
        "id": "crWeT5AdAXQ7"
      },
      "source": [
        "### 2-Making decision tree classifier"
      ]
    },
    {
      "cell_type": "code",
      "metadata": {
        "id": "ew4_hUP0AXQ7"
      },
      "source": [
        "X = data[[\"KRT14\", \"CK5\", \"CDH3\", \"FOXA1\", \"GATA3\", \"PPARG\", \"RB1\" , \"CCND1\", \"p16\", \"EPCAM\", \"TP63\"]].values\n",
        "y = data.iloc[:,0].values\n",
        "# codes; 0 = BaSq, 1 = Uro, 2 = GU"
      ],
      "execution_count": 14,
      "outputs": []
    },
    {
      "cell_type": "code",
      "metadata": {
        "id": "RuMvsHFlAXQ7",
        "colab": {
          "base_uri": "https://localhost:8080/"
        },
        "outputId": "f31b09c0-1bae-47cf-813d-a73eecd3d1c5"
      },
      "source": [
        "# encode IHC subtype as a dummy variable\n",
        "y,class_names = pd.factorize(y)\n",
        "\n",
        "X.shape[0]"
      ],
      "execution_count": 15,
      "outputs": [
        {
          "output_type": "execute_result",
          "data": {
            "text/plain": [
              "177"
            ]
          },
          "metadata": {
            "tags": []
          },
          "execution_count": 15
        }
      ]
    },
    {
      "cell_type": "code",
      "metadata": {
        "id": "ZDy_5T48tPYy"
      },
      "source": [
        "#Splitting the dataset into the Training set and Test set\n",
        "from sklearn.model_selection import train_test_split\n",
        "X_train, X_test, y_train, y_test = train_test_split(X, y, test_size = 0.25, stratify=y, random_state = 42)"
      ],
      "execution_count": 17,
      "outputs": []
    },
    {
      "cell_type": "markdown",
      "metadata": {
        "id": "6mJmbPDv16PY"
      },
      "source": [
        "**Finding optimum tree depth by cross validation**\n",
        "\n",
        "\n",
        "**Stratified k-fold cross validation**\n",
        "\n",
        "StratifiedKFold is a variation of k-fold which returns stratified folds: each set contains approximately the same percentage of samples of each target class as the complete set.\n",
        "\n"
      ]
    },
    {
      "cell_type": "code",
      "metadata": {
        "id": "Unx3yDSrlCYI"
      },
      "source": [
        "# using cv to find depth:\n",
        "from sklearn.model_selection import cross_val_score \n",
        "from sklearn.model_selection import KFold,StratifiedKFold\n",
        "\n",
        "crossvalidation = KFold(n_splits=10, shuffle=True, random_state= 42) # I dont use this \n",
        "skf = StratifiedKFold(n_splits=10, shuffle=True, random_state=42) # suitable for multiclass and unblanced classification groups"
      ],
      "execution_count": 18,
      "outputs": []
    },
    {
      "cell_type": "code",
      "metadata": {
        "colab": {
          "base_uri": "https://localhost:8080/"
        },
        "id": "uSkmvrLtyJy9",
        "outputId": "92a67976-8027-4fa7-ecd4-f96f648fbd9b"
      },
      "source": [
        "from sklearn import tree\n",
        "for depth in range(1,10):\n",
        " tree_classifier = tree.DecisionTreeClassifier(\n",
        "  max_depth=depth, random_state=42)\n",
        " if tree_classifier.fit(X,y).tree_.max_depth < depth:\n",
        "  break\n",
        " score = np.mean(cross_val_score(tree_classifier, X, y,scoring='accuracy', cv=skf, n_jobs=1))\n",
        " print ('Depth: %i Accuracy: %.3f' %(depth,score))"
      ],
      "execution_count": 29,
      "outputs": [
        {
          "output_type": "stream",
          "text": [
            "Depth: 1 Accuracy: 0.706\n",
            "Depth: 2 Accuracy: 0.836\n",
            "Depth: 3 Accuracy: 0.830\n",
            "Depth: 4 Accuracy: 0.858\n",
            "Depth: 5 Accuracy: 0.836\n",
            "Depth: 6 Accuracy: 0.836\n",
            "Depth: 7 Accuracy: 0.842\n",
            "Depth: 8 Accuracy: 0.853\n",
            "Depth: 9 Accuracy: 0.853\n"
          ],
          "name": "stdout"
        }
      ]
    },
    {
      "cell_type": "markdown",
      "metadata": {
        "id": "vJUTr-ur63Ai"
      },
      "source": [
        "**Training model by CV**"
      ]
    },
    {
      "cell_type": "code",
      "metadata": {
        "id": "j_NLMQKZwuGO"
      },
      "source": [
        "# this should be leave one out method! \n",
        "from scipy.stats import sem\n",
        "from sklearn import metrics\n",
        "clf = tree.DecisionTreeClassifier(criterion= 'entropy', min_samples_split=2, min_samples_leaf=2,random_state=42, max_depth=4)\n",
        "\n",
        "\n",
        "def skf_cv(X_train,y_train,clf):\n",
        "    # Perform stratified cross validation\n",
        "    scores=np.zeros(X_train[:].shape[0])\n",
        "    for train_index,test_index in skf.split(X_train,y_train):\n",
        "        X_train_cv, X_test_cv, y_train_cv, y_test_cv = X[train_index], X[test_index], y[train_index], y[test_index]\n",
        "        clf = clf.fit(X_train_cv,y_train_cv)\n",
        "        y_pred=clf.predict(X_test_cv)\n",
        "        scores[test_index]=metrics.accuracy_score(y_test_cv.astype(int), y_pred.astype(int))\n",
        "    print ((\"Mean score: {0:.3f} (+/-{1:.3f})\").format(np.mean(scores), sem(scores)))"
      ],
      "execution_count": 21,
      "outputs": []
    },
    {
      "cell_type": "code",
      "metadata": {
        "colab": {
          "base_uri": "https://localhost:8080/"
        },
        "id": "xEIFSDiiUyTL",
        "outputId": "524ba10a-bf91-4128-f3f5-08a5763755a7"
      },
      "source": [
        "skf_cv(X_train, y_train,clf)"
      ],
      "execution_count": 22,
      "outputs": [
        {
          "output_type": "stream",
          "text": [
            "Mean score: 0.856 (+/-0.007)\n"
          ],
          "name": "stdout"
        }
      ]
    },
    {
      "cell_type": "code",
      "metadata": {
        "id": "r_w3Loxggm6M"
      },
      "source": [
        "# defining a helper function\n",
        "def get_score(model, X_train, X_test, y_train, y_test):\n",
        "  model.fit(X_train, y_train)\n",
        "  return model.score(X_test, y_test)"
      ],
      "execution_count": 33,
      "outputs": []
    },
    {
      "cell_type": "code",
      "metadata": {
        "id": "yD2k51EZeoue",
        "colab": {
          "base_uri": "https://localhost:8080/"
        },
        "outputId": "e765f0a7-56e5-45cc-b554-37b584e1a0ce"
      },
      "source": [
        "tree_classifier = tree.DecisionTreeClassifier(criterion= 'entropy',random_state=42, max_depth=4)\n",
        "\n",
        "scores_tree = []\n",
        "#fscore_tree = []\n",
        "\n",
        "for train_index, test_index in skf.split(X_train,y_train):\n",
        "  X_train_cv, X_test_cv, y_train_cv, y_test_cv = X_train[train_index], X_train[test_index], y_train[train_index], y_train[test_index]\n",
        "  print(get_score(tree_classifier, X_train_cv, X_test_cv, y_train_cv, y_test_cv))\n",
        "  scores_tree.append(get_score(tree_classifier, X_train_cv, X_test_cv, y_train_cv, y_test_cv))\n"
      ],
      "execution_count": 34,
      "outputs": [
        {
          "output_type": "stream",
          "text": [
            "0.8571428571428571\n",
            "0.8571428571428571\n",
            "0.9230769230769231\n",
            "0.8461538461538461\n",
            "1.0\n",
            "0.8461538461538461\n",
            "0.8461538461538461\n",
            "0.9230769230769231\n",
            "0.7692307692307693\n",
            "0.6153846153846154\n"
          ],
          "name": "stdout"
        }
      ]
    },
    {
      "cell_type": "code",
      "metadata": {
        "id": "XfSlRAS8k7xI",
        "colab": {
          "base_uri": "https://localhost:8080/"
        },
        "outputId": "63eb3257-c3c6-4720-dd13-51dc4ec57418"
      },
      "source": [
        "# instead of writing the above code we can use cross_val_score to get score that we want from cross validation job\n",
        "from scipy.stats import sem\n",
        "cv_score = cross_val_score(tree_classifier, X_train, y_train, cv=skf)\n",
        "\n",
        "print ((\"Mean score: {0:.3f} (+/-{1:.3f})\").format(np.mean(cv_score), sem(cv_score)))"
      ],
      "execution_count": 37,
      "outputs": [
        {
          "output_type": "stream",
          "text": [
            "Mean score: 0.848 (+/-0.032)\n"
          ],
          "name": "stdout"
        }
      ]
    },
    {
      "cell_type": "markdown",
      "metadata": {
        "id": "P_W9DkWrAXQ8"
      },
      "source": [
        "### Classifier prediction on the test set\n"
      ]
    },
    {
      "cell_type": "code",
      "metadata": {
        "colab": {
          "base_uri": "https://localhost:8080/"
        },
        "id": "M7OCV_eAAXQ8",
        "outputId": "7c800882-178a-44b6-f71d-efa639b99b88"
      },
      "source": [
        "y_pred=tree_classifier.predict(X_test)\n",
        "\n",
        "# Classification results on test set\n",
        "print('Classification results on test set')\n",
        "accuracy = metrics.accuracy_score(y_test, y_pred)\n",
        "print(\"Accuracy: {:.2f}\".format(accuracy))\n",
        "\n",
        "from sklearn.metrics import confusion_matrix, classification_report\n",
        "cm=confusion_matrix(y_test,y_pred)\n",
        "print('Confusion Matrix: \\n', cm)\n",
        "print(classification_report(y_test, y_pred))"
      ],
      "execution_count": 26,
      "outputs": [
        {
          "output_type": "stream",
          "text": [
            "Classification results on test set\n",
            "Accuracy: 0.82\n",
            "Confusion Matrix: \n",
            " [[ 8  2  0]\n",
            " [ 1 20  0]\n",
            " [ 1  4  9]]\n",
            "              precision    recall  f1-score   support\n",
            "\n",
            "           0       0.80      0.80      0.80        10\n",
            "           1       0.77      0.95      0.85        21\n",
            "           2       1.00      0.64      0.78        14\n",
            "\n",
            "    accuracy                           0.82        45\n",
            "   macro avg       0.86      0.80      0.81        45\n",
            "weighted avg       0.85      0.82      0.82        45\n",
            "\n"
          ],
          "name": "stdout"
        }
      ]
    },
    {
      "cell_type": "markdown",
      "metadata": {
        "id": "IgRmK8CtAXQ9"
      },
      "source": [
        "_____________________________________________________________________________________________________________________________________________"
      ]
    },
    {
      "cell_type": "markdown",
      "metadata": {
        "id": "DCfUXglsAXQ9"
      },
      "source": [
        "### 5-Visualization"
      ]
    },
    {
      "cell_type": "code",
      "metadata": {
        "colab": {
          "base_uri": "https://localhost:8080/",
          "height": 776
        },
        "id": "HC9bK84aAXQ9",
        "outputId": "0ef60118-c0a1-41ee-f026-0330ed167aba"
      },
      "source": [
        "# Visualize the tree by graphiz\n",
        "import graphviz\n",
        "from sklearn import tree\n",
        "from IPython.display import Image\n",
        "from IPython.display import Image \n",
        "import matplotlib.pyplot as plt \n",
        "\n",
        "feature_names = [\"KRT14\", \"CK5\", \"CDH3\", \"FOXA1\", \"GATA3\", \"PPARG\", \"RB1\" , \"CCND1\", \"p16\", \"EPCAM\", \"TP63\"]\n",
        "dot_data = tree.export_graphviz(tree_classifier, out_file=None, filled=True,feature_names = feature_names, rounded = True, class_names=class_names)\n",
        "graph = graphviz.Source(dot_data)\n",
        "graph\n",
        "#graph.render('tree.png', view=True)  \n",
        "#graph.write_png('my_decision_tree.png')\n",
        "#files.download('tree.png')"
      ],
      "execution_count": 27,
      "outputs": [
        {
          "output_type": "execute_result",
          "data": {
            "text/plain": [
              "<graphviz.files.Source at 0x7fc5c047e590>"
            ],
            "image/svg+xml": "<?xml version=\"1.0\" encoding=\"UTF-8\" standalone=\"no\"?>\n<!DOCTYPE svg PUBLIC \"-//W3C//DTD SVG 1.1//EN\"\n \"http://www.w3.org/Graphics/SVG/1.1/DTD/svg11.dtd\">\n<!-- Generated by graphviz version 2.40.1 (20161225.0304)\n -->\n<!-- Title: Tree Pages: 1 -->\n<svg width=\"1226pt\" height=\"552pt\"\n viewBox=\"0.00 0.00 1226.00 552.00\" xmlns=\"http://www.w3.org/2000/svg\" xmlns:xlink=\"http://www.w3.org/1999/xlink\">\n<g id=\"graph0\" class=\"graph\" transform=\"scale(1 1) rotate(0) translate(4 548)\">\n<title>Tree</title>\n<polygon fill=\"#ffffff\" stroke=\"transparent\" points=\"-4,4 -4,-548 1222,-548 1222,4 -4,4\"/>\n<!-- 0 -->\n<g id=\"node1\" class=\"node\">\n<title>0</title>\n<path fill=\"#d2f9e2\" stroke=\"#000000\" d=\"M469.5,-544C469.5,-544 353.5,-544 353.5,-544 347.5,-544 341.5,-538 341.5,-532 341.5,-532 341.5,-473 341.5,-473 341.5,-467 347.5,-461 353.5,-461 353.5,-461 469.5,-461 469.5,-461 475.5,-461 481.5,-467 481.5,-473 481.5,-473 481.5,-532 481.5,-532 481.5,-538 475.5,-544 469.5,-544\"/>\n<text text-anchor=\"middle\" x=\"411.5\" y=\"-528.8\" font-family=\"Helvetica,sans-Serif\" font-size=\"14.00\" fill=\"#000000\">RB1 &lt;= 0.278</text>\n<text text-anchor=\"middle\" x=\"411.5\" y=\"-513.8\" font-family=\"Helvetica,sans-Serif\" font-size=\"14.00\" fill=\"#000000\">entropy = 1.528</text>\n<text text-anchor=\"middle\" x=\"411.5\" y=\"-498.8\" font-family=\"Helvetica,sans-Serif\" font-size=\"14.00\" fill=\"#000000\">samples = 119</text>\n<text text-anchor=\"middle\" x=\"411.5\" y=\"-483.8\" font-family=\"Helvetica,sans-Serif\" font-size=\"14.00\" fill=\"#000000\">value = [28, 55, 36]</text>\n<text text-anchor=\"middle\" x=\"411.5\" y=\"-468.8\" font-family=\"Helvetica,sans-Serif\" font-size=\"14.00\" fill=\"#000000\">class = Uro</text>\n</g>\n<!-- 1 -->\n<g id=\"node2\" class=\"node\">\n<title>1</title>\n<path fill=\"#b388ef\" stroke=\"#000000\" d=\"M391,-425C391,-425 284,-425 284,-425 278,-425 272,-419 272,-413 272,-413 272,-354 272,-354 272,-348 278,-342 284,-342 284,-342 391,-342 391,-342 397,-342 403,-348 403,-354 403,-354 403,-413 403,-413 403,-419 397,-425 391,-425\"/>\n<text text-anchor=\"middle\" x=\"337.5\" y=\"-409.8\" font-family=\"Helvetica,sans-Serif\" font-size=\"14.00\" fill=\"#000000\">CK5 &lt;= 0.713</text>\n<text text-anchor=\"middle\" x=\"337.5\" y=\"-394.8\" font-family=\"Helvetica,sans-Serif\" font-size=\"14.00\" fill=\"#000000\">entropy = 0.863</text>\n<text text-anchor=\"middle\" x=\"337.5\" y=\"-379.8\" font-family=\"Helvetica,sans-Serif\" font-size=\"14.00\" fill=\"#000000\">samples = 42</text>\n<text text-anchor=\"middle\" x=\"337.5\" y=\"-364.8\" font-family=\"Helvetica,sans-Serif\" font-size=\"14.00\" fill=\"#000000\">value = [12, 0, 30]</text>\n<text text-anchor=\"middle\" x=\"337.5\" y=\"-349.8\" font-family=\"Helvetica,sans-Serif\" font-size=\"14.00\" fill=\"#000000\">class = GU</text>\n</g>\n<!-- 0&#45;&gt;1 -->\n<g id=\"edge1\" class=\"edge\">\n<title>0&#45;&gt;1</title>\n<path fill=\"none\" stroke=\"#000000\" d=\"M385.6184,-460.8796C380.1858,-452.1434 374.4008,-442.8404 368.7947,-433.8253\"/>\n<polygon fill=\"#000000\" stroke=\"#000000\" points=\"371.7451,-431.9418 363.4921,-425.2981 365.8007,-435.6383 371.7451,-431.9418\"/>\n<text text-anchor=\"middle\" x=\"357.8153\" y=\"-445.945\" font-family=\"Helvetica,sans-Serif\" font-size=\"14.00\" fill=\"#000000\">True</text>\n</g>\n<!-- 6 -->\n<g id=\"node7\" class=\"node\">\n<title>6</title>\n<path fill=\"#80eeae\" stroke=\"#000000\" d=\"M540,-425C540,-425 433,-425 433,-425 427,-425 421,-419 421,-413 421,-413 421,-354 421,-354 421,-348 427,-342 433,-342 433,-342 540,-342 540,-342 546,-342 552,-348 552,-354 552,-354 552,-413 552,-413 552,-419 546,-425 540,-425\"/>\n<text text-anchor=\"middle\" x=\"486.5\" y=\"-409.8\" font-family=\"Helvetica,sans-Serif\" font-size=\"14.00\" fill=\"#000000\">CK5 &lt;= 0.194</text>\n<text text-anchor=\"middle\" x=\"486.5\" y=\"-394.8\" font-family=\"Helvetica,sans-Serif\" font-size=\"14.00\" fill=\"#000000\">entropy = 1.105</text>\n<text text-anchor=\"middle\" x=\"486.5\" y=\"-379.8\" font-family=\"Helvetica,sans-Serif\" font-size=\"14.00\" fill=\"#000000\">samples = 77</text>\n<text text-anchor=\"middle\" x=\"486.5\" y=\"-364.8\" font-family=\"Helvetica,sans-Serif\" font-size=\"14.00\" fill=\"#000000\">value = [16, 55, 6]</text>\n<text text-anchor=\"middle\" x=\"486.5\" y=\"-349.8\" font-family=\"Helvetica,sans-Serif\" font-size=\"14.00\" fill=\"#000000\">class = Uro</text>\n</g>\n<!-- 0&#45;&gt;6 -->\n<g id=\"edge6\" class=\"edge\">\n<title>0&#45;&gt;6</title>\n<path fill=\"none\" stroke=\"#000000\" d=\"M437.7314,-460.8796C443.2373,-452.1434 449.1006,-442.8404 454.7824,-433.8253\"/>\n<polygon fill=\"#000000\" stroke=\"#000000\" points=\"457.7857,-435.6242 460.1567,-425.2981 451.8637,-431.8919 457.7857,-435.6242\"/>\n<text text-anchor=\"middle\" x=\"465.6863\" y=\"-445.9789\" font-family=\"Helvetica,sans-Serif\" font-size=\"14.00\" fill=\"#000000\">False</text>\n</g>\n<!-- 2 -->\n<g id=\"node3\" class=\"node\">\n<title>2</title>\n<path fill=\"#8540e6\" stroke=\"#000000\" d=\"M247.5,-306C247.5,-306 143.5,-306 143.5,-306 137.5,-306 131.5,-300 131.5,-294 131.5,-294 131.5,-235 131.5,-235 131.5,-229 137.5,-223 143.5,-223 143.5,-223 247.5,-223 247.5,-223 253.5,-223 259.5,-229 259.5,-235 259.5,-235 259.5,-294 259.5,-294 259.5,-300 253.5,-306 247.5,-306\"/>\n<text text-anchor=\"middle\" x=\"195.5\" y=\"-290.8\" font-family=\"Helvetica,sans-Serif\" font-size=\"14.00\" fill=\"#000000\">CCND1 &lt;= 0.231</text>\n<text text-anchor=\"middle\" x=\"195.5\" y=\"-275.8\" font-family=\"Helvetica,sans-Serif\" font-size=\"14.00\" fill=\"#000000\">entropy = 0.206</text>\n<text text-anchor=\"middle\" x=\"195.5\" y=\"-260.8\" font-family=\"Helvetica,sans-Serif\" font-size=\"14.00\" fill=\"#000000\">samples = 31</text>\n<text text-anchor=\"middle\" x=\"195.5\" y=\"-245.8\" font-family=\"Helvetica,sans-Serif\" font-size=\"14.00\" fill=\"#000000\">value = [1, 0, 30]</text>\n<text text-anchor=\"middle\" x=\"195.5\" y=\"-230.8\" font-family=\"Helvetica,sans-Serif\" font-size=\"14.00\" fill=\"#000000\">class = GU</text>\n</g>\n<!-- 1&#45;&gt;2 -->\n<g id=\"edge2\" class=\"edge\">\n<title>1&#45;&gt;2</title>\n<path fill=\"none\" stroke=\"#000000\" d=\"M287.8353,-341.8796C276.6584,-332.513 264.7038,-322.4948 253.2288,-312.8784\"/>\n<polygon fill=\"#000000\" stroke=\"#000000\" points=\"255.2893,-310.0386 245.3767,-306.2981 250.7931,-315.4037 255.2893,-310.0386\"/>\n</g>\n<!-- 5 -->\n<g id=\"node6\" class=\"node\">\n<title>5</title>\n<path fill=\"#e58139\" stroke=\"#000000\" d=\"M389,-298.5C389,-298.5 290,-298.5 290,-298.5 284,-298.5 278,-292.5 278,-286.5 278,-286.5 278,-242.5 278,-242.5 278,-236.5 284,-230.5 290,-230.5 290,-230.5 389,-230.5 389,-230.5 395,-230.5 401,-236.5 401,-242.5 401,-242.5 401,-286.5 401,-286.5 401,-292.5 395,-298.5 389,-298.5\"/>\n<text text-anchor=\"middle\" x=\"339.5\" y=\"-283.3\" font-family=\"Helvetica,sans-Serif\" font-size=\"14.00\" fill=\"#000000\">entropy = 0.0</text>\n<text text-anchor=\"middle\" x=\"339.5\" y=\"-268.3\" font-family=\"Helvetica,sans-Serif\" font-size=\"14.00\" fill=\"#000000\">samples = 11</text>\n<text text-anchor=\"middle\" x=\"339.5\" y=\"-253.3\" font-family=\"Helvetica,sans-Serif\" font-size=\"14.00\" fill=\"#000000\">value = [11, 0, 0]</text>\n<text text-anchor=\"middle\" x=\"339.5\" y=\"-238.3\" font-family=\"Helvetica,sans-Serif\" font-size=\"14.00\" fill=\"#000000\">class = BaSq</text>\n</g>\n<!-- 1&#45;&gt;5 -->\n<g id=\"edge5\" class=\"edge\">\n<title>1&#45;&gt;5</title>\n<path fill=\"none\" stroke=\"#000000\" d=\"M338.1995,-341.8796C338.3788,-331.2134 338.5722,-319.7021 338.7538,-308.9015\"/>\n<polygon fill=\"#000000\" stroke=\"#000000\" points=\"342.2546,-308.8724 338.9233,-298.8149 335.2556,-308.7547 342.2546,-308.8724\"/>\n</g>\n<!-- 3 -->\n<g id=\"node4\" class=\"node\">\n<title>3</title>\n<path fill=\"#8139e5\" stroke=\"#000000\" d=\"M111,-179.5C111,-179.5 12,-179.5 12,-179.5 6,-179.5 0,-173.5 0,-167.5 0,-167.5 0,-123.5 0,-123.5 0,-117.5 6,-111.5 12,-111.5 12,-111.5 111,-111.5 111,-111.5 117,-111.5 123,-117.5 123,-123.5 123,-123.5 123,-167.5 123,-167.5 123,-173.5 117,-179.5 111,-179.5\"/>\n<text text-anchor=\"middle\" x=\"61.5\" y=\"-164.3\" font-family=\"Helvetica,sans-Serif\" font-size=\"14.00\" fill=\"#000000\">entropy = 0.0</text>\n<text text-anchor=\"middle\" x=\"61.5\" y=\"-149.3\" font-family=\"Helvetica,sans-Serif\" font-size=\"14.00\" fill=\"#000000\">samples = 30</text>\n<text text-anchor=\"middle\" x=\"61.5\" y=\"-134.3\" font-family=\"Helvetica,sans-Serif\" font-size=\"14.00\" fill=\"#000000\">value = [0, 0, 30]</text>\n<text text-anchor=\"middle\" x=\"61.5\" y=\"-119.3\" font-family=\"Helvetica,sans-Serif\" font-size=\"14.00\" fill=\"#000000\">class = GU</text>\n</g>\n<!-- 2&#45;&gt;3 -->\n<g id=\"edge3\" class=\"edge\">\n<title>2&#45;&gt;3</title>\n<path fill=\"none\" stroke=\"#000000\" d=\"M148.6333,-222.8796C135.3844,-211.1138 120.9776,-198.3197 107.7644,-186.5855\"/>\n<polygon fill=\"#000000\" stroke=\"#000000\" points=\"109.9416,-183.8381 100.1403,-179.8149 105.2935,-189.0722 109.9416,-183.8381\"/>\n</g>\n<!-- 4 -->\n<g id=\"node5\" class=\"node\">\n<title>4</title>\n<path fill=\"#e58139\" stroke=\"#000000\" d=\"M244,-179.5C244,-179.5 153,-179.5 153,-179.5 147,-179.5 141,-173.5 141,-167.5 141,-167.5 141,-123.5 141,-123.5 141,-117.5 147,-111.5 153,-111.5 153,-111.5 244,-111.5 244,-111.5 250,-111.5 256,-117.5 256,-123.5 256,-123.5 256,-167.5 256,-167.5 256,-173.5 250,-179.5 244,-179.5\"/>\n<text text-anchor=\"middle\" x=\"198.5\" y=\"-164.3\" font-family=\"Helvetica,sans-Serif\" font-size=\"14.00\" fill=\"#000000\">entropy = 0.0</text>\n<text text-anchor=\"middle\" x=\"198.5\" y=\"-149.3\" font-family=\"Helvetica,sans-Serif\" font-size=\"14.00\" fill=\"#000000\">samples = 1</text>\n<text text-anchor=\"middle\" x=\"198.5\" y=\"-134.3\" font-family=\"Helvetica,sans-Serif\" font-size=\"14.00\" fill=\"#000000\">value = [1, 0, 0]</text>\n<text text-anchor=\"middle\" x=\"198.5\" y=\"-119.3\" font-family=\"Helvetica,sans-Serif\" font-size=\"14.00\" fill=\"#000000\">class = BaSq</text>\n</g>\n<!-- 2&#45;&gt;4 -->\n<g id=\"edge4\" class=\"edge\">\n<title>2&#45;&gt;4</title>\n<path fill=\"none\" stroke=\"#000000\" d=\"M196.5493,-222.8796C196.8182,-212.2134 197.1084,-200.7021 197.3806,-189.9015\"/>\n<polygon fill=\"#000000\" stroke=\"#000000\" points=\"200.8817,-189.9 197.6349,-179.8149 193.8839,-189.7235 200.8817,-189.9\"/>\n</g>\n<!-- 7 -->\n<g id=\"node8\" class=\"node\">\n<title>7</title>\n<path fill=\"#4ee88e\" stroke=\"#000000\" d=\"M537.5,-306C537.5,-306 433.5,-306 433.5,-306 427.5,-306 421.5,-300 421.5,-294 421.5,-294 421.5,-235 421.5,-235 421.5,-229 427.5,-223 433.5,-223 433.5,-223 537.5,-223 537.5,-223 543.5,-223 549.5,-229 549.5,-235 549.5,-235 549.5,-294 549.5,-294 549.5,-300 543.5,-306 537.5,-306\"/>\n<text text-anchor=\"middle\" x=\"485.5\" y=\"-290.8\" font-family=\"Helvetica,sans-Serif\" font-size=\"14.00\" fill=\"#000000\">CCND1 &lt;= 0.009</text>\n<text text-anchor=\"middle\" x=\"485.5\" y=\"-275.8\" font-family=\"Helvetica,sans-Serif\" font-size=\"14.00\" fill=\"#000000\">entropy = 0.451</text>\n<text text-anchor=\"middle\" x=\"485.5\" y=\"-260.8\" font-family=\"Helvetica,sans-Serif\" font-size=\"14.00\" fill=\"#000000\">samples = 53</text>\n<text text-anchor=\"middle\" x=\"485.5\" y=\"-245.8\" font-family=\"Helvetica,sans-Serif\" font-size=\"14.00\" fill=\"#000000\">value = [0, 48, 5]</text>\n<text text-anchor=\"middle\" x=\"485.5\" y=\"-230.8\" font-family=\"Helvetica,sans-Serif\" font-size=\"14.00\" fill=\"#000000\">class = Uro</text>\n</g>\n<!-- 6&#45;&gt;7 -->\n<g id=\"edge7\" class=\"edge\">\n<title>6&#45;&gt;7</title>\n<path fill=\"none\" stroke=\"#000000\" d=\"M486.1502,-341.8796C486.0814,-333.6838 486.0083,-324.9891 485.937,-316.5013\"/>\n<polygon fill=\"#000000\" stroke=\"#000000\" points=\"489.4352,-316.2683 485.8512,-306.2981 482.4355,-316.3272 489.4352,-316.2683\"/>\n</g>\n<!-- 14 -->\n<g id=\"node15\" class=\"node\">\n<title>14</title>\n<path fill=\"#f1bc96\" stroke=\"#000000\" d=\"M869,-306C869,-306 768,-306 768,-306 762,-306 756,-300 756,-294 756,-294 756,-235 756,-235 756,-229 762,-223 768,-223 768,-223 869,-223 869,-223 875,-223 881,-229 881,-235 881,-235 881,-294 881,-294 881,-300 875,-306 869,-306\"/>\n<text text-anchor=\"middle\" x=\"818.5\" y=\"-290.8\" font-family=\"Helvetica,sans-Serif\" font-size=\"14.00\" fill=\"#000000\">FOXA1 &lt;= 0.417</text>\n<text text-anchor=\"middle\" x=\"818.5\" y=\"-275.8\" font-family=\"Helvetica,sans-Serif\" font-size=\"14.00\" fill=\"#000000\">entropy = 1.099</text>\n<text text-anchor=\"middle\" x=\"818.5\" y=\"-260.8\" font-family=\"Helvetica,sans-Serif\" font-size=\"14.00\" fill=\"#000000\">samples = 24</text>\n<text text-anchor=\"middle\" x=\"818.5\" y=\"-245.8\" font-family=\"Helvetica,sans-Serif\" font-size=\"14.00\" fill=\"#000000\">value = [16, 7, 1]</text>\n<text text-anchor=\"middle\" x=\"818.5\" y=\"-230.8\" font-family=\"Helvetica,sans-Serif\" font-size=\"14.00\" fill=\"#000000\">class = BaSq</text>\n</g>\n<!-- 6&#45;&gt;14 -->\n<g id=\"edge14\" class=\"edge\">\n<title>6&#45;&gt;14</title>\n<path fill=\"none\" stroke=\"#000000\" d=\"M552.0925,-359.9894C608.1224,-339.9064 688.5981,-311.0612 746.4176,-290.3368\"/>\n<polygon fill=\"#000000\" stroke=\"#000000\" points=\"747.6226,-293.6229 755.8552,-286.954 745.2607,-287.0335 747.6226,-293.6229\"/>\n</g>\n<!-- 8 -->\n<g id=\"node9\" class=\"node\">\n<title>8</title>\n<path fill=\"#a06aec\" stroke=\"#000000\" d=\"M392.5,-187C392.5,-187 292.5,-187 292.5,-187 286.5,-187 280.5,-181 280.5,-175 280.5,-175 280.5,-116 280.5,-116 280.5,-110 286.5,-104 292.5,-104 292.5,-104 392.5,-104 392.5,-104 398.5,-104 404.5,-110 404.5,-116 404.5,-116 404.5,-175 404.5,-175 404.5,-181 398.5,-187 392.5,-187\"/>\n<text text-anchor=\"middle\" x=\"342.5\" y=\"-171.8\" font-family=\"Helvetica,sans-Serif\" font-size=\"14.00\" fill=\"#000000\">GATA3 &lt;= 0.815</text>\n<text text-anchor=\"middle\" x=\"342.5\" y=\"-156.8\" font-family=\"Helvetica,sans-Serif\" font-size=\"14.00\" fill=\"#000000\">entropy = 0.722</text>\n<text text-anchor=\"middle\" x=\"342.5\" y=\"-141.8\" font-family=\"Helvetica,sans-Serif\" font-size=\"14.00\" fill=\"#000000\">samples = 5</text>\n<text text-anchor=\"middle\" x=\"342.5\" y=\"-126.8\" font-family=\"Helvetica,sans-Serif\" font-size=\"14.00\" fill=\"#000000\">value = [0, 1, 4]</text>\n<text text-anchor=\"middle\" x=\"342.5\" y=\"-111.8\" font-family=\"Helvetica,sans-Serif\" font-size=\"14.00\" fill=\"#000000\">class = GU</text>\n</g>\n<!-- 7&#45;&gt;8 -->\n<g id=\"edge8\" class=\"edge\">\n<title>7&#45;&gt;8</title>\n<path fill=\"none\" stroke=\"#000000\" d=\"M435.4855,-222.8796C424.2299,-213.513 412.1912,-203.4948 400.6354,-193.8784\"/>\n<polygon fill=\"#000000\" stroke=\"#000000\" points=\"402.6534,-191.0043 392.7279,-187.2981 398.1758,-196.385 402.6534,-191.0043\"/>\n</g>\n<!-- 11 -->\n<g id=\"node12\" class=\"node\">\n<title>11</title>\n<path fill=\"#3de684\" stroke=\"#000000\" d=\"M535,-187C535,-187 436,-187 436,-187 430,-187 424,-181 424,-175 424,-175 424,-116 424,-116 424,-110 430,-104 436,-104 436,-104 535,-104 535,-104 541,-104 547,-110 547,-116 547,-116 547,-175 547,-175 547,-181 541,-187 535,-187\"/>\n<text text-anchor=\"middle\" x=\"485.5\" y=\"-171.8\" font-family=\"Helvetica,sans-Serif\" font-size=\"14.00\" fill=\"#000000\">TP63 &lt;= 0.194</text>\n<text text-anchor=\"middle\" x=\"485.5\" y=\"-156.8\" font-family=\"Helvetica,sans-Serif\" font-size=\"14.00\" fill=\"#000000\">entropy = 0.146</text>\n<text text-anchor=\"middle\" x=\"485.5\" y=\"-141.8\" font-family=\"Helvetica,sans-Serif\" font-size=\"14.00\" fill=\"#000000\">samples = 48</text>\n<text text-anchor=\"middle\" x=\"485.5\" y=\"-126.8\" font-family=\"Helvetica,sans-Serif\" font-size=\"14.00\" fill=\"#000000\">value = [0, 47, 1]</text>\n<text text-anchor=\"middle\" x=\"485.5\" y=\"-111.8\" font-family=\"Helvetica,sans-Serif\" font-size=\"14.00\" fill=\"#000000\">class = Uro</text>\n</g>\n<!-- 7&#45;&gt;11 -->\n<g id=\"edge11\" class=\"edge\">\n<title>7&#45;&gt;11</title>\n<path fill=\"none\" stroke=\"#000000\" d=\"M485.5,-222.8796C485.5,-214.6838 485.5,-205.9891 485.5,-197.5013\"/>\n<polygon fill=\"#000000\" stroke=\"#000000\" points=\"489.0001,-197.298 485.5,-187.2981 482.0001,-197.2981 489.0001,-197.298\"/>\n</g>\n<!-- 9 -->\n<g id=\"node10\" class=\"node\">\n<title>9</title>\n<path fill=\"#8139e5\" stroke=\"#000000\" d=\"M255,-68C255,-68 164,-68 164,-68 158,-68 152,-62 152,-56 152,-56 152,-12 152,-12 152,-6 158,0 164,0 164,0 255,0 255,0 261,0 267,-6 267,-12 267,-12 267,-56 267,-56 267,-62 261,-68 255,-68\"/>\n<text text-anchor=\"middle\" x=\"209.5\" y=\"-52.8\" font-family=\"Helvetica,sans-Serif\" font-size=\"14.00\" fill=\"#000000\">entropy = 0.0</text>\n<text text-anchor=\"middle\" x=\"209.5\" y=\"-37.8\" font-family=\"Helvetica,sans-Serif\" font-size=\"14.00\" fill=\"#000000\">samples = 4</text>\n<text text-anchor=\"middle\" x=\"209.5\" y=\"-22.8\" font-family=\"Helvetica,sans-Serif\" font-size=\"14.00\" fill=\"#000000\">value = [0, 0, 4]</text>\n<text text-anchor=\"middle\" x=\"209.5\" y=\"-7.8\" font-family=\"Helvetica,sans-Serif\" font-size=\"14.00\" fill=\"#000000\">class = GU</text>\n</g>\n<!-- 8&#45;&gt;9 -->\n<g id=\"edge9\" class=\"edge\">\n<title>8&#45;&gt;9</title>\n<path fill=\"none\" stroke=\"#000000\" d=\"M292.9757,-103.9815C281.5743,-94.4232 269.4595,-84.2668 258.0979,-74.7419\"/>\n<polygon fill=\"#000000\" stroke=\"#000000\" points=\"260.2825,-72.006 250.3706,-68.2637 255.7853,-77.3704 260.2825,-72.006\"/>\n</g>\n<!-- 10 -->\n<g id=\"node11\" class=\"node\">\n<title>10</title>\n<path fill=\"#39e581\" stroke=\"#000000\" d=\"M388,-68C388,-68 297,-68 297,-68 291,-68 285,-62 285,-56 285,-56 285,-12 285,-12 285,-6 291,0 297,0 297,0 388,0 388,0 394,0 400,-6 400,-12 400,-12 400,-56 400,-56 400,-62 394,-68 388,-68\"/>\n<text text-anchor=\"middle\" x=\"342.5\" y=\"-52.8\" font-family=\"Helvetica,sans-Serif\" font-size=\"14.00\" fill=\"#000000\">entropy = 0.0</text>\n<text text-anchor=\"middle\" x=\"342.5\" y=\"-37.8\" font-family=\"Helvetica,sans-Serif\" font-size=\"14.00\" fill=\"#000000\">samples = 1</text>\n<text text-anchor=\"middle\" x=\"342.5\" y=\"-22.8\" font-family=\"Helvetica,sans-Serif\" font-size=\"14.00\" fill=\"#000000\">value = [0, 1, 0]</text>\n<text text-anchor=\"middle\" x=\"342.5\" y=\"-7.8\" font-family=\"Helvetica,sans-Serif\" font-size=\"14.00\" fill=\"#000000\">class = Uro</text>\n</g>\n<!-- 8&#45;&gt;10 -->\n<g id=\"edge10\" class=\"edge\">\n<title>8&#45;&gt;10</title>\n<path fill=\"none\" stroke=\"#000000\" d=\"M342.5,-103.9815C342.5,-95.618 342.5,-86.7965 342.5,-78.3409\"/>\n<polygon fill=\"#000000\" stroke=\"#000000\" points=\"346.0001,-78.2636 342.5,-68.2637 339.0001,-78.2637 346.0001,-78.2636\"/>\n</g>\n<!-- 12 -->\n<g id=\"node13\" class=\"node\">\n<title>12</title>\n<path fill=\"#6aeca0\" stroke=\"#000000\" d=\"M524.5,-68C524.5,-68 430.5,-68 430.5,-68 424.5,-68 418.5,-62 418.5,-56 418.5,-56 418.5,-12 418.5,-12 418.5,-6 424.5,0 430.5,0 430.5,0 524.5,0 524.5,0 530.5,0 536.5,-6 536.5,-12 536.5,-12 536.5,-56 536.5,-56 536.5,-62 530.5,-68 524.5,-68\"/>\n<text text-anchor=\"middle\" x=\"477.5\" y=\"-52.8\" font-family=\"Helvetica,sans-Serif\" font-size=\"14.00\" fill=\"#000000\">entropy = 0.722</text>\n<text text-anchor=\"middle\" x=\"477.5\" y=\"-37.8\" font-family=\"Helvetica,sans-Serif\" font-size=\"14.00\" fill=\"#000000\">samples = 5</text>\n<text text-anchor=\"middle\" x=\"477.5\" y=\"-22.8\" font-family=\"Helvetica,sans-Serif\" font-size=\"14.00\" fill=\"#000000\">value = [0, 4, 1]</text>\n<text text-anchor=\"middle\" x=\"477.5\" y=\"-7.8\" font-family=\"Helvetica,sans-Serif\" font-size=\"14.00\" fill=\"#000000\">class = Uro</text>\n</g>\n<!-- 11&#45;&gt;12 -->\n<g id=\"edge12\" class=\"edge\">\n<title>11&#45;&gt;12</title>\n<path fill=\"none\" stroke=\"#000000\" d=\"M482.5211,-103.9815C481.921,-95.618 481.2881,-86.7965 480.6814,-78.3409\"/>\n<polygon fill=\"#000000\" stroke=\"#000000\" points=\"484.1651,-77.9875 479.9584,-68.2637 477.1831,-78.4885 484.1651,-77.9875\"/>\n</g>\n<!-- 13 -->\n<g id=\"node14\" class=\"node\">\n<title>13</title>\n<path fill=\"#39e581\" stroke=\"#000000\" d=\"M666,-68C666,-68 567,-68 567,-68 561,-68 555,-62 555,-56 555,-56 555,-12 555,-12 555,-6 561,0 567,0 567,0 666,0 666,0 672,0 678,-6 678,-12 678,-12 678,-56 678,-56 678,-62 672,-68 666,-68\"/>\n<text text-anchor=\"middle\" x=\"616.5\" y=\"-52.8\" font-family=\"Helvetica,sans-Serif\" font-size=\"14.00\" fill=\"#000000\">entropy = 0.0</text>\n<text text-anchor=\"middle\" x=\"616.5\" y=\"-37.8\" font-family=\"Helvetica,sans-Serif\" font-size=\"14.00\" fill=\"#000000\">samples = 43</text>\n<text text-anchor=\"middle\" x=\"616.5\" y=\"-22.8\" font-family=\"Helvetica,sans-Serif\" font-size=\"14.00\" fill=\"#000000\">value = [0, 43, 0]</text>\n<text text-anchor=\"middle\" x=\"616.5\" y=\"-7.8\" font-family=\"Helvetica,sans-Serif\" font-size=\"14.00\" fill=\"#000000\">class = Uro</text>\n</g>\n<!-- 11&#45;&gt;13 -->\n<g id=\"edge13\" class=\"edge\">\n<title>11&#45;&gt;13</title>\n<path fill=\"none\" stroke=\"#000000\" d=\"M534.2796,-103.9815C545.4015,-94.5151 557.2128,-84.462 568.3099,-75.0168\"/>\n<polygon fill=\"#000000\" stroke=\"#000000\" points=\"570.8975,-77.4105 576.244,-68.2637 566.3604,-72.08 570.8975,-77.4105\"/>\n</g>\n<!-- 15 -->\n<g id=\"node16\" class=\"node\">\n<title>15</title>\n<path fill=\"#e89152\" stroke=\"#000000\" d=\"M868,-187C868,-187 769,-187 769,-187 763,-187 757,-181 757,-175 757,-175 757,-116 757,-116 757,-110 763,-104 769,-104 769,-104 868,-104 868,-104 874,-104 880,-110 880,-116 880,-116 880,-175 880,-175 880,-181 874,-187 868,-187\"/>\n<text text-anchor=\"middle\" x=\"818.5\" y=\"-171.8\" font-family=\"Helvetica,sans-Serif\" font-size=\"14.00\" fill=\"#000000\">KRT14 &lt;= 0.111</text>\n<text text-anchor=\"middle\" x=\"818.5\" y=\"-156.8\" font-family=\"Helvetica,sans-Serif\" font-size=\"14.00\" fill=\"#000000\">entropy = 0.64</text>\n<text text-anchor=\"middle\" x=\"818.5\" y=\"-141.8\" font-family=\"Helvetica,sans-Serif\" font-size=\"14.00\" fill=\"#000000\">samples = 17</text>\n<text text-anchor=\"middle\" x=\"818.5\" y=\"-126.8\" font-family=\"Helvetica,sans-Serif\" font-size=\"14.00\" fill=\"#000000\">value = [15, 1, 1]</text>\n<text text-anchor=\"middle\" x=\"818.5\" y=\"-111.8\" font-family=\"Helvetica,sans-Serif\" font-size=\"14.00\" fill=\"#000000\">class = BaSq</text>\n</g>\n<!-- 14&#45;&gt;15 -->\n<g id=\"edge15\" class=\"edge\">\n<title>14&#45;&gt;15</title>\n<path fill=\"none\" stroke=\"#000000\" d=\"M818.5,-222.8796C818.5,-214.6838 818.5,-205.9891 818.5,-197.5013\"/>\n<polygon fill=\"#000000\" stroke=\"#000000\" points=\"822.0001,-197.298 818.5,-187.2981 815.0001,-197.2981 822.0001,-197.298\"/>\n</g>\n<!-- 18 -->\n<g id=\"node19\" class=\"node\">\n<title>18</title>\n<path fill=\"#5ae996\" stroke=\"#000000\" d=\"M1080,-187C1080,-187 975,-187 975,-187 969,-187 963,-181 963,-175 963,-175 963,-116 963,-116 963,-110 969,-104 975,-104 975,-104 1080,-104 1080,-104 1086,-104 1092,-110 1092,-116 1092,-116 1092,-175 1092,-175 1092,-181 1086,-187 1080,-187\"/>\n<text text-anchor=\"middle\" x=\"1027.5\" y=\"-171.8\" font-family=\"Helvetica,sans-Serif\" font-size=\"14.00\" fill=\"#000000\">EPCAM &lt;= 0.444</text>\n<text text-anchor=\"middle\" x=\"1027.5\" y=\"-156.8\" font-family=\"Helvetica,sans-Serif\" font-size=\"14.00\" fill=\"#000000\">entropy = 0.592</text>\n<text text-anchor=\"middle\" x=\"1027.5\" y=\"-141.8\" font-family=\"Helvetica,sans-Serif\" font-size=\"14.00\" fill=\"#000000\">samples = 7</text>\n<text text-anchor=\"middle\" x=\"1027.5\" y=\"-126.8\" font-family=\"Helvetica,sans-Serif\" font-size=\"14.00\" fill=\"#000000\">value = [1, 6, 0]</text>\n<text text-anchor=\"middle\" x=\"1027.5\" y=\"-111.8\" font-family=\"Helvetica,sans-Serif\" font-size=\"14.00\" fill=\"#000000\">class = Uro</text>\n</g>\n<!-- 14&#45;&gt;18 -->\n<g id=\"edge18\" class=\"edge\">\n<title>14&#45;&gt;18</title>\n<path fill=\"none\" stroke=\"#000000\" d=\"M881.2069,-228.7961C904.0231,-215.805 930.0218,-201.0019 953.7099,-187.5144\"/>\n<polygon fill=\"#000000\" stroke=\"#000000\" points=\"955.7058,-190.4057 962.6641,-182.4161 952.2422,-184.3226 955.7058,-190.4057\"/>\n</g>\n<!-- 16 -->\n<g id=\"node17\" class=\"node\">\n<title>16</title>\n<path fill=\"#ffffff\" stroke=\"#000000\" d=\"M799,-68C799,-68 708,-68 708,-68 702,-68 696,-62 696,-56 696,-56 696,-12 696,-12 696,-6 702,0 708,0 708,0 799,0 799,0 805,0 811,-6 811,-12 811,-12 811,-56 811,-56 811,-62 805,-68 799,-68\"/>\n<text text-anchor=\"middle\" x=\"753.5\" y=\"-52.8\" font-family=\"Helvetica,sans-Serif\" font-size=\"14.00\" fill=\"#000000\">entropy = 1.0</text>\n<text text-anchor=\"middle\" x=\"753.5\" y=\"-37.8\" font-family=\"Helvetica,sans-Serif\" font-size=\"14.00\" fill=\"#000000\">samples = 2</text>\n<text text-anchor=\"middle\" x=\"753.5\" y=\"-22.8\" font-family=\"Helvetica,sans-Serif\" font-size=\"14.00\" fill=\"#000000\">value = [0, 1, 1]</text>\n<text text-anchor=\"middle\" x=\"753.5\" y=\"-7.8\" font-family=\"Helvetica,sans-Serif\" font-size=\"14.00\" fill=\"#000000\">class = Uro</text>\n</g>\n<!-- 15&#45;&gt;16 -->\n<g id=\"edge16\" class=\"edge\">\n<title>15&#45;&gt;16</title>\n<path fill=\"none\" stroke=\"#000000\" d=\"M794.2964,-103.9815C789.1529,-95.1585 783.7123,-85.8258 778.5384,-76.9506\"/>\n<polygon fill=\"#000000\" stroke=\"#000000\" points=\"781.5344,-75.1402 773.4743,-68.2637 775.487,-78.6656 781.5344,-75.1402\"/>\n</g>\n<!-- 17 -->\n<g id=\"node18\" class=\"node\">\n<title>17</title>\n<path fill=\"#e58139\" stroke=\"#000000\" d=\"M940,-68C940,-68 841,-68 841,-68 835,-68 829,-62 829,-56 829,-56 829,-12 829,-12 829,-6 835,0 841,0 841,0 940,0 940,0 946,0 952,-6 952,-12 952,-12 952,-56 952,-56 952,-62 946,-68 940,-68\"/>\n<text text-anchor=\"middle\" x=\"890.5\" y=\"-52.8\" font-family=\"Helvetica,sans-Serif\" font-size=\"14.00\" fill=\"#000000\">entropy = 0.0</text>\n<text text-anchor=\"middle\" x=\"890.5\" y=\"-37.8\" font-family=\"Helvetica,sans-Serif\" font-size=\"14.00\" fill=\"#000000\">samples = 15</text>\n<text text-anchor=\"middle\" x=\"890.5\" y=\"-22.8\" font-family=\"Helvetica,sans-Serif\" font-size=\"14.00\" fill=\"#000000\">value = [15, 0, 0]</text>\n<text text-anchor=\"middle\" x=\"890.5\" y=\"-7.8\" font-family=\"Helvetica,sans-Serif\" font-size=\"14.00\" fill=\"#000000\">class = BaSq</text>\n</g>\n<!-- 15&#45;&gt;17 -->\n<g id=\"edge17\" class=\"edge\">\n<title>15&#45;&gt;17</title>\n<path fill=\"none\" stroke=\"#000000\" d=\"M845.3101,-103.9815C851.0669,-95.0666 857.1596,-85.6313 862.9441,-76.6734\"/>\n<polygon fill=\"#000000\" stroke=\"#000000\" points=\"865.8901,-78.5631 868.3746,-68.2637 860.0096,-74.7658 865.8901,-78.5631\"/>\n</g>\n<!-- 19 -->\n<g id=\"node20\" class=\"node\">\n<title>19</title>\n<path fill=\"#e58139\" stroke=\"#000000\" d=\"M1073,-68C1073,-68 982,-68 982,-68 976,-68 970,-62 970,-56 970,-56 970,-12 970,-12 970,-6 976,0 982,0 982,0 1073,0 1073,0 1079,0 1085,-6 1085,-12 1085,-12 1085,-56 1085,-56 1085,-62 1079,-68 1073,-68\"/>\n<text text-anchor=\"middle\" x=\"1027.5\" y=\"-52.8\" font-family=\"Helvetica,sans-Serif\" font-size=\"14.00\" fill=\"#000000\">entropy = 0.0</text>\n<text text-anchor=\"middle\" x=\"1027.5\" y=\"-37.8\" font-family=\"Helvetica,sans-Serif\" font-size=\"14.00\" fill=\"#000000\">samples = 1</text>\n<text text-anchor=\"middle\" x=\"1027.5\" y=\"-22.8\" font-family=\"Helvetica,sans-Serif\" font-size=\"14.00\" fill=\"#000000\">value = [1, 0, 0]</text>\n<text text-anchor=\"middle\" x=\"1027.5\" y=\"-7.8\" font-family=\"Helvetica,sans-Serif\" font-size=\"14.00\" fill=\"#000000\">class = BaSq</text>\n</g>\n<!-- 18&#45;&gt;19 -->\n<g id=\"edge19\" class=\"edge\">\n<title>18&#45;&gt;19</title>\n<path fill=\"none\" stroke=\"#000000\" d=\"M1027.5,-103.9815C1027.5,-95.618 1027.5,-86.7965 1027.5,-78.3409\"/>\n<polygon fill=\"#000000\" stroke=\"#000000\" points=\"1031.0001,-78.2636 1027.5,-68.2637 1024.0001,-78.2637 1031.0001,-78.2636\"/>\n</g>\n<!-- 20 -->\n<g id=\"node21\" class=\"node\">\n<title>20</title>\n<path fill=\"#39e581\" stroke=\"#000000\" d=\"M1206,-68C1206,-68 1115,-68 1115,-68 1109,-68 1103,-62 1103,-56 1103,-56 1103,-12 1103,-12 1103,-6 1109,0 1115,0 1115,0 1206,0 1206,0 1212,0 1218,-6 1218,-12 1218,-12 1218,-56 1218,-56 1218,-62 1212,-68 1206,-68\"/>\n<text text-anchor=\"middle\" x=\"1160.5\" y=\"-52.8\" font-family=\"Helvetica,sans-Serif\" font-size=\"14.00\" fill=\"#000000\">entropy = 0.0</text>\n<text text-anchor=\"middle\" x=\"1160.5\" y=\"-37.8\" font-family=\"Helvetica,sans-Serif\" font-size=\"14.00\" fill=\"#000000\">samples = 6</text>\n<text text-anchor=\"middle\" x=\"1160.5\" y=\"-22.8\" font-family=\"Helvetica,sans-Serif\" font-size=\"14.00\" fill=\"#000000\">value = [0, 6, 0]</text>\n<text text-anchor=\"middle\" x=\"1160.5\" y=\"-7.8\" font-family=\"Helvetica,sans-Serif\" font-size=\"14.00\" fill=\"#000000\">class = Uro</text>\n</g>\n<!-- 18&#45;&gt;20 -->\n<g id=\"edge20\" class=\"edge\">\n<title>18&#45;&gt;20</title>\n<path fill=\"none\" stroke=\"#000000\" d=\"M1077.0243,-103.9815C1088.4257,-94.4232 1100.5405,-84.2668 1111.9021,-74.7419\"/>\n<polygon fill=\"#000000\" stroke=\"#000000\" points=\"1114.2147,-77.3704 1119.6294,-68.2637 1109.7175,-72.006 1114.2147,-77.3704\"/>\n</g>\n</g>\n</svg>\n"
          },
          "metadata": {
            "tags": []
          },
          "execution_count": 27
        }
      ]
    }
  ]
}