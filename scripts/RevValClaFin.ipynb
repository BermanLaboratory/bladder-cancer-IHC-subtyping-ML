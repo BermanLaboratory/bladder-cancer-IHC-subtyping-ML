{
 "cells": [
  {
   "cell_type": "markdown",
   "metadata": {},
   "source": [
    "# MIBC multiclass classifier"
   ]
  },
  {
   "cell_type": "markdown",
   "metadata": {},
   "source": [
    "### Outlines:\n",
    "\n",
    "##### 1-Data wrangling\n",
    "\n",
    "##### 2-Making decision tree classifier\n",
    "\n",
    "##### 3- Classifier prediction on the train set\n",
    "\n",
    "##### 4- Classifier prediction on the test set\n",
    "\n",
    "##### 5- Visualization\n",
    "\n",
    "##### 6-  Find decision tree depth via cross-validation\n",
    "\n",
    "##### 7- Feature importance\n",
    "\n",
    "##### 8- multiclass AUC curve analysis & plots"
   ]
  },
  {
   "cell_type": "markdown",
   "metadata": {},
   "source": [
    "_____________________________________________________________________________________________________________________________________________"
   ]
  },
  {
   "cell_type": "markdown",
   "metadata": {},
   "source": [
    "### 1- Data wrangling"
   ]
  },
  {
   "cell_type": "markdown",
   "metadata": {},
   "source": [
    "The data set that Iused for this job is coming from Sjödahl et.al J Pathol 2017; 242: 113–125. "
   ]
  },
  {
   "cell_type": "code",
   "execution_count": 169,
   "metadata": {},
   "outputs": [],
   "source": [
    "# Import libraries\n",
    "import numpy as np\n",
    "import pandas as pd\n",
    "import os as os "
   ]
  },
  {
   "cell_type": "code",
   "execution_count": 170,
   "metadata": {},
   "outputs": [],
   "source": [
    "os.getcwd()\n",
    "#'C:\\\\Users\\\\qaedi'\n",
    "os.chdir(\"C://Users/qaedi/Documents/\")\n",
    "\n"
   ]
  },
  {
   "cell_type": "code",
   "execution_count": 171,
   "metadata": {},
   "outputs": [
    {
     "data": {
      "text/html": [
       "<div>\n",
       "<style scoped>\n",
       "    .dataframe tbody tr th:only-of-type {\n",
       "        vertical-align: middle;\n",
       "    }\n",
       "\n",
       "    .dataframe tbody tr th {\n",
       "        vertical-align: top;\n",
       "    }\n",
       "\n",
       "    .dataframe thead th {\n",
       "        text-align: right;\n",
       "    }\n",
       "</style>\n",
       "<table border=\"1\" class=\"dataframe\">\n",
       "  <thead>\n",
       "    <tr style=\"text-align: right;\">\n",
       "      <th></th>\n",
       "      <th>TMA#</th>\n",
       "      <th>Age</th>\n",
       "      <th>Sex</th>\n",
       "      <th>Grade</th>\n",
       "      <th>Stage</th>\n",
       "      <th>Clinical stage</th>\n",
       "      <th>Hyb#</th>\n",
       "      <th>Subtype_LundTax_RNA</th>\n",
       "      <th>Subtype_IHC</th>\n",
       "      <th>CK5_Pattern_Bernardo</th>\n",
       "      <th>...</th>\n",
       "      <th>PPARG</th>\n",
       "      <th>pSTAT3</th>\n",
       "      <th>RB1</th>\n",
       "      <th>RXRA</th>\n",
       "      <th>SYP</th>\n",
       "      <th>TP63</th>\n",
       "      <th>TUBB2B</th>\n",
       "      <th>UPK3</th>\n",
       "      <th>VIM</th>\n",
       "      <th>ZEB2</th>\n",
       "    </tr>\n",
       "  </thead>\n",
       "  <tbody>\n",
       "    <tr>\n",
       "      <th>0</th>\n",
       "      <td>3</td>\n",
       "      <td>74.0</td>\n",
       "      <td>Female</td>\n",
       "      <td>G3</td>\n",
       "      <td>pT2</td>\n",
       "      <td>T4a</td>\n",
       "      <td>91.0</td>\n",
       "      <td>Ba/Sq</td>\n",
       "      <td>BaSq</td>\n",
       "      <td>all</td>\n",
       "      <td>...</td>\n",
       "      <td>0.0</td>\n",
       "      <td>1.80</td>\n",
       "      <td>9.0</td>\n",
       "      <td>0.8</td>\n",
       "      <td>0.0</td>\n",
       "      <td>9.0</td>\n",
       "      <td>2.0</td>\n",
       "      <td>0.0</td>\n",
       "      <td>1.35</td>\n",
       "      <td>0.0</td>\n",
       "    </tr>\n",
       "    <tr>\n",
       "      <th>1</th>\n",
       "      <td>7</td>\n",
       "      <td>75.6</td>\n",
       "      <td>Male</td>\n",
       "      <td>G2</td>\n",
       "      <td>pT2</td>\n",
       "      <td>T3</td>\n",
       "      <td>54.0</td>\n",
       "      <td>Ba/Sq</td>\n",
       "      <td>BaSq</td>\n",
       "      <td>all</td>\n",
       "      <td>...</td>\n",
       "      <td>0.0</td>\n",
       "      <td>1.35</td>\n",
       "      <td>0.0</td>\n",
       "      <td>0.5</td>\n",
       "      <td>0.0</td>\n",
       "      <td>9.0</td>\n",
       "      <td>1.0</td>\n",
       "      <td>0.0</td>\n",
       "      <td>0.00</td>\n",
       "      <td>1.0</td>\n",
       "    </tr>\n",
       "    <tr>\n",
       "      <th>2</th>\n",
       "      <td>29</td>\n",
       "      <td>72.1</td>\n",
       "      <td>Female</td>\n",
       "      <td>G3</td>\n",
       "      <td>pT2</td>\n",
       "      <td>T2</td>\n",
       "      <td>208.0</td>\n",
       "      <td>Ba/Sq</td>\n",
       "      <td>BaSq</td>\n",
       "      <td>all</td>\n",
       "      <td>...</td>\n",
       "      <td>0.0</td>\n",
       "      <td>1.65</td>\n",
       "      <td>0.0</td>\n",
       "      <td>0.0</td>\n",
       "      <td>0.0</td>\n",
       "      <td>9.0</td>\n",
       "      <td>0.5</td>\n",
       "      <td>0.0</td>\n",
       "      <td>0.05</td>\n",
       "      <td>0.0</td>\n",
       "    </tr>\n",
       "    <tr>\n",
       "      <th>3</th>\n",
       "      <td>39</td>\n",
       "      <td>55.3</td>\n",
       "      <td>Female</td>\n",
       "      <td>G3</td>\n",
       "      <td>pT2</td>\n",
       "      <td>T2</td>\n",
       "      <td>25.0</td>\n",
       "      <td>Ba/Sq-Inf</td>\n",
       "      <td>Uro</td>\n",
       "      <td>ML</td>\n",
       "      <td>...</td>\n",
       "      <td>1.6</td>\n",
       "      <td>0.55</td>\n",
       "      <td>9.0</td>\n",
       "      <td>0.7</td>\n",
       "      <td>0.0</td>\n",
       "      <td>8.0</td>\n",
       "      <td>0.0</td>\n",
       "      <td>0.0</td>\n",
       "      <td>0.30</td>\n",
       "      <td>0.0</td>\n",
       "    </tr>\n",
       "    <tr>\n",
       "      <th>4</th>\n",
       "      <td>55</td>\n",
       "      <td>75.5</td>\n",
       "      <td>Female</td>\n",
       "      <td>G3</td>\n",
       "      <td>pT2</td>\n",
       "      <td>T2</td>\n",
       "      <td>24.0</td>\n",
       "      <td>Ba/Sq-Inf</td>\n",
       "      <td>BaSq</td>\n",
       "      <td>all</td>\n",
       "      <td>...</td>\n",
       "      <td>0.0</td>\n",
       "      <td>1.80</td>\n",
       "      <td>9.0</td>\n",
       "      <td>0.0</td>\n",
       "      <td>0.0</td>\n",
       "      <td>9.0</td>\n",
       "      <td>0.5</td>\n",
       "      <td>0.0</td>\n",
       "      <td>0.70</td>\n",
       "      <td>0.0</td>\n",
       "    </tr>\n",
       "  </tbody>\n",
       "</table>\n",
       "<p>5 rows × 41 columns</p>\n",
       "</div>"
      ],
      "text/plain": [
       "   TMA#   Age     Sex Grade Stage Clinical stage   Hyb# Subtype_LundTax_RNA  \\\n",
       "0     3  74.0  Female    G3   pT2            T4a   91.0               Ba/Sq   \n",
       "1     7  75.6    Male    G2   pT2             T3   54.0               Ba/Sq   \n",
       "2    29  72.1  Female    G3   pT2             T2  208.0               Ba/Sq   \n",
       "3    39  55.3  Female    G3   pT2             T2   25.0           Ba/Sq-Inf   \n",
       "4    55  75.5  Female    G3   pT2             T2   24.0           Ba/Sq-Inf   \n",
       "\n",
       "  Subtype_IHC CK5_Pattern_Bernardo  ...  PPARG  pSTAT3  RB1  RXRA  SYP  TP63  \\\n",
       "0        BaSq                  all  ...    0.0    1.80  9.0   0.8  0.0   9.0   \n",
       "1        BaSq                  all  ...    0.0    1.35  0.0   0.5  0.0   9.0   \n",
       "2        BaSq                  all  ...    0.0    1.65  0.0   0.0  0.0   9.0   \n",
       "3         Uro                   ML  ...    1.6    0.55  9.0   0.7  0.0   8.0   \n",
       "4        BaSq                  all  ...    0.0    1.80  9.0   0.0  0.0   9.0   \n",
       "\n",
       "   TUBB2B  UPK3   VIM  ZEB2  \n",
       "0     2.0   0.0  1.35   0.0  \n",
       "1     1.0   0.0  0.00   1.0  \n",
       "2     0.5   0.0  0.05   0.0  \n",
       "3     0.0   0.0  0.30   0.0  \n",
       "4     0.5   0.0  0.70   0.0  \n",
       "\n",
       "[5 rows x 41 columns]"
      ]
     },
     "execution_count": 171,
     "metadata": {},
     "output_type": "execute_result"
    }
   ],
   "source": [
    "data = pd.read_csv(\"C://Users/qaedi/Desktop/Lund_reverse_validation/4.JPath2017_PtLevel.csv\")\n",
    "data.head()"
   ]
  },
  {
   "cell_type": "code",
   "execution_count": 172,
   "metadata": {},
   "outputs": [],
   "source": [
    "#data.describe()"
   ]
  },
  {
   "cell_type": "code",
   "execution_count": 173,
   "metadata": {},
   "outputs": [],
   "source": [
    "\n",
    "\n",
    "# Review missing data in the demographic information\n",
    "#print(data.isnull().sum())\n",
    "\n"
   ]
  },
  {
   "cell_type": "code",
   "execution_count": 174,
   "metadata": {},
   "outputs": [
    {
     "name": "stdout",
     "output_type": "stream",
     "text": [
      "TMA#                      0\n",
      "Age                       0\n",
      "Sex                       0\n",
      "Grade                     4\n",
      "Stage                     1\n",
      "Clinical stage           27\n",
      "Hyb#                    102\n",
      "Subtype_LundTax_RNA     102\n",
      "Subtype_IHC               0\n",
      "CK5_Pattern_Bernardo    152\n",
      "CCNB1                     2\n",
      "CCND1                     0\n",
      "CD3density                0\n",
      "CD68density               0\n",
      "CDH1                      0\n",
      "CDH3                      1\n",
      "CDKN2Ap16                 0\n",
      "CHGA                      1\n",
      "E2F3                      1\n",
      "EGFR                      2\n",
      "EPCAM                     0\n",
      "ERBB2                     0\n",
      "ERBB3                     0\n",
      "FGFR3                     0\n",
      "FOXA1                     0\n",
      "FOXM1                     1\n",
      "GATA3                     0\n",
      "KRT14                     0\n",
      "KRT20                     4\n",
      "KRT5                      0\n",
      "NCAM1                     0\n",
      "PPARG                     0\n",
      "pSTAT3                    0\n",
      "RB1                       0\n",
      "RXRA                      0\n",
      "SYP                       0\n",
      "TP63                      0\n",
      "TUBB2B                    0\n",
      "UPK3                      2\n",
      "VIM                       0\n",
      "ZEB2                      6\n",
      "dtype: int64\n"
     ]
    }
   ],
   "source": [
    "# dropping NAs from Subtype_IHC\n",
    "data = data.dropna(subset=['Subtype_IHC'])\n",
    "print(data.isnull().sum())\n"
   ]
  },
  {
   "cell_type": "code",
   "execution_count": 175,
   "metadata": {},
   "outputs": [],
   "source": [
    "#print(data.shape)"
   ]
  },
  {
   "cell_type": "code",
   "execution_count": 176,
   "metadata": {},
   "outputs": [],
   "source": [
    "# slicing based on columns\n",
    "d = data.iloc[:, 10:41]\n",
    "\n",
    "# imputing missing values by mean of columns\n",
    "d.fillna(d.mean(), inplace = True)\n",
    "\n",
    "#print(d.isnull().sum())\n"
   ]
  },
  {
   "cell_type": "code",
   "execution_count": 177,
   "metadata": {},
   "outputs": [],
   "source": [
    "# replace a part of data farme by othe dataframe\n",
    "data.iloc[:, 0:9]\n",
    "\n",
    "data = pd.concat([data.iloc[:, 0:9], d], axis=1)\n",
    "\n",
    "#print(data.isnull().sum())"
   ]
  },
  {
   "cell_type": "code",
   "execution_count": 178,
   "metadata": {},
   "outputs": [
    {
     "name": "stdout",
     "output_type": "stream",
     "text": [
      "Uro     195\n",
      "GU      109\n",
      "BaSq     57\n",
      "Name: Subtype_IHC, dtype: int64\n"
     ]
    }
   ],
   "source": [
    "# drop values from subtype_IHC column\n",
    "data = data.drop(data[(data['Subtype_IHC'] == 'Mes-L') | (data['Subtype_IHC'] == 'Sc/NE')].index)\n",
    "print(data.Subtype_IHC.value_counts())\n"
   ]
  },
  {
   "cell_type": "code",
   "execution_count": 179,
   "metadata": {},
   "outputs": [
    {
     "data": {
      "image/png": "[encoded data removed]",
      "text/plain": [
       "<Figure size 432x288 with 2 Axes>"
      ]
     },
     "metadata": {
      "needs_background": "light"
     },
     "output_type": "display_data"
    }
   ],
   "source": [
    "# feature selection based on ROC analysis:\n",
    "## KRT14, KRT5, CDH3, FOXA1, GATA3, PPARG for Uro vs. Bas\n",
    "## RB1 , CCND1, CDKN2Ap16, FGFR3\n",
    "\n",
    "corrmat = data[[\"Subtype_IHC\", \"KRT14\", \"KRT5\", \"CDH3\", \"FOXA1\", \"GATA3\", \"PPARG\", \"RB1\" , \"CCND1\", \"CDKN2Ap16\", \"FGFR3\", \"TP63\"]].corr()\n",
    "\n",
    "# visualization \n",
    "import seaborn as sn\n",
    "import matplotlib.pyplot as plt\n",
    "sn.heatmap(corrmat, annot=True)\n",
    "plt.show()"
   ]
  },
  {
   "cell_type": "markdown",
   "metadata": {},
   "source": [
    "_____________________________________________________________________________________________________________________________________________"
   ]
  },
  {
   "cell_type": "markdown",
   "metadata": {},
   "source": [
    "### 2-Making decision tree classifier"
   ]
  },
  {
   "cell_type": "code",
   "execution_count": 180,
   "metadata": {},
   "outputs": [],
   "source": [
    "X = data[[\"KRT14\", \"KRT5\", \"CDH3\", \"FOXA1\", \"GATA3\", \"PPARG\", \"RB1\" , \"CCND1\", \"CDKN2Ap16\", \"FGFR3\", \"TP63\"]].values\n",
    "y = data.iloc[:,8].values\n",
    "# codes; 0 = BaSq, 1 = Uro, 2 = GU\n"
   ]
  },
  {
   "cell_type": "code",
   "execution_count": 181,
   "metadata": {},
   "outputs": [],
   "source": [
    "# encode IHC subtype as a dummy variable\n",
    "y,class_names = pd.factorize(y)\n"
   ]
  },
  {
   "cell_type": "code",
   "execution_count": 182,
   "metadata": {},
   "outputs": [],
   "source": [
    "# Splitting the dataset into the Training set and Test set\n",
    "from sklearn.model_selection import train_test_split\n",
    "X_train, X_test, y_train, y_test = train_test_split(X, y, test_size = 0.25, stratify=y, random_state = 42)"
   ]
  },
  {
   "cell_type": "code",
   "execution_count": 183,
   "metadata": {},
   "outputs": [
    {
     "data": {
      "text/plain": [
       "DecisionTreeClassifier(criterion='entropy', max_depth=3, random_state=42)"
      ]
     },
     "execution_count": 183,
     "metadata": {},
     "output_type": "execute_result"
    }
   ],
   "source": [
    "# Fitting Classifier to the Training Set\n",
    "from sklearn.tree import DecisionTreeClassifier\n",
    "classifier = DecisionTreeClassifier(criterion='entropy',max_depth=3, random_state=42)\n",
    "classifier.fit(X_train, y_train)"
   ]
  },
  {
   "cell_type": "markdown",
   "metadata": {},
   "source": [
    "_____________________________________________________________________________________________________________________________________________"
   ]
  },
  {
   "cell_type": "markdown",
   "metadata": {},
   "source": [
    "### 3-Classifier prediction on the train set\n"
   ]
  },
  {
   "cell_type": "code",
   "execution_count": 184,
   "metadata": {},
   "outputs": [
    {
     "name": "stdout",
     "output_type": "stream",
     "text": [
      "subtypes codes\n",
      "  Code  Subtype\n",
      "------  ---------\n",
      "     0  BaSq\n",
      "     1  Uro\n",
      "     2  GU\n",
      "\n",
      "Classification results on training set\n",
      "Accuracy: 0.93\n",
      "Confusion Matrix: \n",
      " [[ 37   6   0]\n",
      " [  0 146   0]\n",
      " [  0  14  67]]\n",
      "              precision    recall  f1-score   support\n",
      "\n",
      "           0       1.00      0.86      0.92        43\n",
      "           1       0.88      1.00      0.94       146\n",
      "           2       1.00      0.83      0.91        81\n",
      "\n",
      "    accuracy                           0.93       270\n",
      "   macro avg       0.96      0.90      0.92       270\n",
      "weighted avg       0.93      0.93      0.93       270\n",
      "\n"
     ]
    }
   ],
   "source": [
    "# Model performance on training set\n",
    "y_pred_train =classifier.predict(X_train)\n",
    "\n",
    "from sklearn import metrics\n",
    "from sklearn.metrics import confusion_matrix, classification_report\n",
    "from tabulate import tabulate\n",
    "\n",
    "print('subtypes codes')\n",
    "tab = [[0, 'BaSq'],[1, 'Uro'],[2, 'GU']] \n",
    "\n",
    "print (tabulate(tab, headers=[\"Code\", \"Subtype\"]))\n",
    "print('')\n",
    "       \n",
    "print('Classification results on training set')\n",
    "accuracy = metrics.accuracy_score(y_train, y_pred_train)\n",
    "print(\"Accuracy: {:.2f}\".format(accuracy))\n",
    "cm=confusion_matrix(y_train,y_pred_train)\n",
    "print('Confusion Matrix: \\n', cm)\n",
    "print(classification_report(y_train, y_pred_train))"
   ]
  },
  {
   "cell_type": "markdown",
   "metadata": {},
   "source": [
    "_____________________________________________________________________________________________________________________________________________"
   ]
  },
  {
   "cell_type": "markdown",
   "metadata": {},
   "source": [
    "### 4-Classifier prediction on the test set\n"
   ]
  },
  {
   "cell_type": "code",
   "execution_count": 185,
   "metadata": {},
   "outputs": [
    {
     "name": "stdout",
     "output_type": "stream",
     "text": [
      "Classification results on test set\n",
      "Accuracy: 0.86\n",
      "Confusion Matrix: \n",
      " [[10  3  1]\n",
      " [ 0 49  0]\n",
      " [ 1  8 19]]\n",
      "              precision    recall  f1-score   support\n",
      "\n",
      "           0       0.91      0.71      0.80        14\n",
      "           1       0.82      1.00      0.90        49\n",
      "           2       0.95      0.68      0.79        28\n",
      "\n",
      "    accuracy                           0.86        91\n",
      "   macro avg       0.89      0.80      0.83        91\n",
      "weighted avg       0.87      0.86      0.85        91\n",
      "\n"
     ]
    }
   ],
   "source": [
    "y_pred=classifier.predict(X_test)\n",
    "\n",
    "# Classification results on test set\n",
    "print('Classification results on test set')\n",
    "accuracy = metrics.accuracy_score(y_test, y_pred)\n",
    "print(\"Accuracy: {:.2f}\".format(accuracy))\n",
    "\n",
    "from sklearn.metrics import confusion_matrix, classification_report\n",
    "cm=confusion_matrix(y_test,y_pred)\n",
    "print('Confusion Matrix: \\n', cm)\n",
    "print(classification_report(y_test, y_pred))"
   ]
  },
  {
   "cell_type": "markdown",
   "metadata": {},
   "source": [
    "_____________________________________________________________________________________________________________________________________________"
   ]
  },
  {
   "cell_type": "markdown",
   "metadata": {},
   "source": [
    "### 5-Visualization"
   ]
  },
  {
   "cell_type": "code",
   "execution_count": 186,
   "metadata": {},
   "outputs": [
    {
     "data": {
      "image/svg+xml": [
       "<?xml version=\"1.0\" encoding=\"UTF-8\" standalone=\"no\"?>\r\n",
       "<!DOCTYPE svg PUBLIC \"-//W3C//DTD SVG 1.1//EN\"\r\n",
       " \"http://www.w3.org/Graphics/SVG/1.1/DTD/svg11.dtd\">\r\n",
       "<!-- Generated by graphviz version 2.38.0 (20140413.2041)\r\n",
       " -->\r\n",
       "<!-- Title: Tree Pages: 1 -->\r\n",
       "<svg width=\"1098pt\" height=\"433pt\"\r\n",
       " viewBox=\"0.00 0.00 1098.00 433.00\" xmlns=\"http://www.w3.org/2000/svg\" xmlns:xlink=\"http://www.w3.org/1999/xlink\">\r\n",
       "<g id=\"graph0\" class=\"graph\" transform=\"scale(1 1) rotate(0) translate(4 429)\">\r\n",
       "<title>Tree</title>\r\n",
       "<polygon fill=\"white\" stroke=\"none\" points=\"-4,4 -4,-429 1094,-429 1094,4 -4,4\"/>\r\n",
       "<!-- 0 -->\r\n",
       "<g id=\"node1\" class=\"node\"><title>0</title>\r\n",
       "<path fill=\"#bbf6d4\" stroke=\"black\" d=\"M597.5,-425C597.5,-425 475.5,-425 475.5,-425 469.5,-425 463.5,-419 463.5,-413 463.5,-413 463.5,-354 463.5,-354 463.5,-348 469.5,-342 475.5,-342 475.5,-342 597.5,-342 597.5,-342 603.5,-342 609.5,-348 609.5,-354 609.5,-354 609.5,-413 609.5,-413 609.5,-419 603.5,-425 597.5,-425\"/>\r\n",
       "<text text-anchor=\"middle\" x=\"536.5\" y=\"-409.8\" font-family=\"Helvetica,sans-Serif\" font-size=\"14.00\">RB1 &lt;= 3.25</text>\r\n",
       "<text text-anchor=\"middle\" x=\"536.5\" y=\"-394.8\" font-family=\"Helvetica,sans-Serif\" font-size=\"14.00\">entropy = 1.423</text>\r\n",
       "<text text-anchor=\"middle\" x=\"536.5\" y=\"-379.8\" font-family=\"Helvetica,sans-Serif\" font-size=\"14.00\">samples = 270</text>\r\n",
       "<text text-anchor=\"middle\" x=\"536.5\" y=\"-364.8\" font-family=\"Helvetica,sans-Serif\" font-size=\"14.00\">value = [43, 146, 81]</text>\r\n",
       "<text text-anchor=\"middle\" x=\"536.5\" y=\"-349.8\" font-family=\"Helvetica,sans-Serif\" font-size=\"14.00\">class = Uro</text>\r\n",
       "</g>\r\n",
       "<!-- 1 -->\r\n",
       "<g id=\"node2\" class=\"node\"><title>1</title>\r\n",
       "<path fill=\"#a471ec\" stroke=\"black\" d=\"M482,-306C482,-306 377,-306 377,-306 371,-306 365,-300 365,-294 365,-294 365,-235 365,-235 365,-229 371,-223 377,-223 377,-223 482,-223 482,-223 488,-223 494,-229 494,-235 494,-235 494,-294 494,-294 494,-300 488,-306 482,-306\"/>\r\n",
       "<text text-anchor=\"middle\" x=\"429.5\" y=\"-290.8\" font-family=\"Helvetica,sans-Serif\" font-size=\"14.00\">KRT14 &lt;= 1.5</text>\r\n",
       "<text text-anchor=\"middle\" x=\"429.5\" y=\"-275.8\" font-family=\"Helvetica,sans-Serif\" font-size=\"14.00\">entropy = 0.912</text>\r\n",
       "<text text-anchor=\"middle\" x=\"429.5\" y=\"-260.8\" font-family=\"Helvetica,sans-Serif\" font-size=\"14.00\">samples = 88</text>\r\n",
       "<text text-anchor=\"middle\" x=\"429.5\" y=\"-245.8\" font-family=\"Helvetica,sans-Serif\" font-size=\"14.00\">value = [17, 3, 68]</text>\r\n",
       "<text text-anchor=\"middle\" x=\"429.5\" y=\"-230.8\" font-family=\"Helvetica,sans-Serif\" font-size=\"14.00\">class = GU</text>\r\n",
       "</g>\r\n",
       "<!-- 0&#45;&gt;1 -->\r\n",
       "<g id=\"edge1\" class=\"edge\"><title>0&#45;&gt;1</title>\r\n",
       "<path fill=\"none\" stroke=\"black\" d=\"M499.377,-341.907C490.994,-332.742 482.018,-322.927 473.387,-313.489\"/>\r\n",
       "<polygon fill=\"black\" stroke=\"black\" points=\"475.889,-311.038 466.557,-306.021 470.723,-315.762 475.889,-311.038\"/>\r\n",
       "<text text-anchor=\"middle\" x=\"465.443\" y=\"-327.296\" font-family=\"Helvetica,sans-Serif\" font-size=\"14.00\">True</text>\r\n",
       "</g>\r\n",
       "<!-- 8 -->\r\n",
       "<g id=\"node9\" class=\"node\"><title>8</title>\r\n",
       "<path fill=\"#6beca0\" stroke=\"black\" d=\"M704.5,-306C704.5,-306 582.5,-306 582.5,-306 576.5,-306 570.5,-300 570.5,-294 570.5,-294 570.5,-235 570.5,-235 570.5,-229 576.5,-223 582.5,-223 582.5,-223 704.5,-223 704.5,-223 710.5,-223 716.5,-229 716.5,-235 716.5,-235 716.5,-294 716.5,-294 716.5,-300 710.5,-306 704.5,-306\"/>\r\n",
       "<text text-anchor=\"middle\" x=\"643.5\" y=\"-290.8\" font-family=\"Helvetica,sans-Serif\" font-size=\"14.00\">KRT5 &lt;= 1.575</text>\r\n",
       "<text text-anchor=\"middle\" x=\"643.5\" y=\"-275.8\" font-family=\"Helvetica,sans-Serif\" font-size=\"14.00\">entropy = 0.946</text>\r\n",
       "<text text-anchor=\"middle\" x=\"643.5\" y=\"-260.8\" font-family=\"Helvetica,sans-Serif\" font-size=\"14.00\">samples = 182</text>\r\n",
       "<text text-anchor=\"middle\" x=\"643.5\" y=\"-245.8\" font-family=\"Helvetica,sans-Serif\" font-size=\"14.00\">value = [26, 143, 13]</text>\r\n",
       "<text text-anchor=\"middle\" x=\"643.5\" y=\"-230.8\" font-family=\"Helvetica,sans-Serif\" font-size=\"14.00\">class = Uro</text>\r\n",
       "</g>\r\n",
       "<!-- 0&#45;&gt;8 -->\r\n",
       "<g id=\"edge8\" class=\"edge\"><title>0&#45;&gt;8</title>\r\n",
       "<path fill=\"none\" stroke=\"black\" d=\"M573.623,-341.907C582.006,-332.742 590.982,-322.927 599.613,-313.489\"/>\r\n",
       "<polygon fill=\"black\" stroke=\"black\" points=\"602.277,-315.762 606.443,-306.021 597.111,-311.038 602.277,-315.762\"/>\r\n",
       "<text text-anchor=\"middle\" x=\"607.557\" y=\"-327.296\" font-family=\"Helvetica,sans-Serif\" font-size=\"14.00\">False</text>\r\n",
       "</g>\r\n",
       "<!-- 2 -->\r\n",
       "<g id=\"node3\" class=\"node\"><title>2</title>\r\n",
       "<path fill=\"#8845e7\" stroke=\"black\" d=\"M246,-187C246,-187 149,-187 149,-187 143,-187 137,-181 137,-175 137,-175 137,-116 137,-116 137,-110 143,-104 149,-104 149,-104 246,-104 246,-104 252,-104 258,-110 258,-116 258,-116 258,-175 258,-175 258,-181 252,-187 246,-187\"/>\r\n",
       "<text text-anchor=\"middle\" x=\"197.5\" y=\"-171.8\" font-family=\"Helvetica,sans-Serif\" font-size=\"14.00\">TP63 &lt;= 8.25</text>\r\n",
       "<text text-anchor=\"middle\" x=\"197.5\" y=\"-156.8\" font-family=\"Helvetica,sans-Serif\" font-size=\"14.00\">entropy = 0.358</text>\r\n",
       "<text text-anchor=\"middle\" x=\"197.5\" y=\"-141.8\" font-family=\"Helvetica,sans-Serif\" font-size=\"14.00\">samples = 71</text>\r\n",
       "<text text-anchor=\"middle\" x=\"197.5\" y=\"-126.8\" font-family=\"Helvetica,sans-Serif\" font-size=\"14.00\">value = [1, 3, 67]</text>\r\n",
       "<text text-anchor=\"middle\" x=\"197.5\" y=\"-111.8\" font-family=\"Helvetica,sans-Serif\" font-size=\"14.00\">class = GU</text>\r\n",
       "</g>\r\n",
       "<!-- 1&#45;&gt;2 -->\r\n",
       "<g id=\"edge2\" class=\"edge\"><title>1&#45;&gt;2</title>\r\n",
       "<path fill=\"none\" stroke=\"black\" d=\"M364.875,-230.909C334.49,-215.585 298.21,-197.289 267.208,-181.655\"/>\r\n",
       "<polygon fill=\"black\" stroke=\"black\" points=\"268.697,-178.486 258.192,-177.108 265.545,-184.736 268.697,-178.486\"/>\r\n",
       "</g>\r\n",
       "<!-- 5 -->\r\n",
       "<g id=\"node6\" class=\"node\"><title>5</title>\r\n",
       "<path fill=\"#e78945\" stroke=\"black\" d=\"M478,-187C478,-187 381,-187 381,-187 375,-187 369,-181 369,-175 369,-175 369,-116 369,-116 369,-110 375,-104 381,-104 381,-104 478,-104 478,-104 484,-104 490,-110 490,-116 490,-116 490,-175 490,-175 490,-181 484,-187 478,-187\"/>\r\n",
       "<text text-anchor=\"middle\" x=\"429.5\" y=\"-171.8\" font-family=\"Helvetica,sans-Serif\" font-size=\"14.00\">TP63 &lt;= 2.25</text>\r\n",
       "<text text-anchor=\"middle\" x=\"429.5\" y=\"-156.8\" font-family=\"Helvetica,sans-Serif\" font-size=\"14.00\">entropy = 0.323</text>\r\n",
       "<text text-anchor=\"middle\" x=\"429.5\" y=\"-141.8\" font-family=\"Helvetica,sans-Serif\" font-size=\"14.00\">samples = 17</text>\r\n",
       "<text text-anchor=\"middle\" x=\"429.5\" y=\"-126.8\" font-family=\"Helvetica,sans-Serif\" font-size=\"14.00\">value = [16, 0, 1]</text>\r\n",
       "<text text-anchor=\"middle\" x=\"429.5\" y=\"-111.8\" font-family=\"Helvetica,sans-Serif\" font-size=\"14.00\">class = BaSq</text>\r\n",
       "</g>\r\n",
       "<!-- 1&#45;&gt;5 -->\r\n",
       "<g id=\"edge5\" class=\"edge\"><title>1&#45;&gt;5</title>\r\n",
       "<path fill=\"none\" stroke=\"black\" d=\"M429.5,-222.907C429.5,-214.649 429.5,-205.864 429.5,-197.302\"/>\r\n",
       "<polygon fill=\"black\" stroke=\"black\" points=\"433,-197.021 429.5,-187.021 426,-197.021 433,-197.021\"/>\r\n",
       "</g>\r\n",
       "<!-- 3 -->\r\n",
       "<g id=\"node4\" class=\"node\"><title>3</title>\r\n",
       "<path fill=\"#8139e5\" stroke=\"black\" d=\"M109,-68C109,-68 12,-68 12,-68 6,-68 0,-62 0,-56 0,-56 0,-12 0,-12 0,-6 6,-0 12,-0 12,-0 109,-0 109,-0 115,-0 121,-6 121,-12 121,-12 121,-56 121,-56 121,-62 115,-68 109,-68\"/>\r\n",
       "<text text-anchor=\"middle\" x=\"60.5\" y=\"-52.8\" font-family=\"Helvetica,sans-Serif\" font-size=\"14.00\">entropy = 0.0</text>\r\n",
       "<text text-anchor=\"middle\" x=\"60.5\" y=\"-37.8\" font-family=\"Helvetica,sans-Serif\" font-size=\"14.00\">samples = 66</text>\r\n",
       "<text text-anchor=\"middle\" x=\"60.5\" y=\"-22.8\" font-family=\"Helvetica,sans-Serif\" font-size=\"14.00\">value = [0, 0, 66]</text>\r\n",
       "<text text-anchor=\"middle\" x=\"60.5\" y=\"-7.8\" font-family=\"Helvetica,sans-Serif\" font-size=\"14.00\">class = GU</text>\r\n",
       "</g>\r\n",
       "<!-- 2&#45;&gt;3 -->\r\n",
       "<g id=\"edge3\" class=\"edge\"><title>2&#45;&gt;3</title>\r\n",
       "<path fill=\"none\" stroke=\"black\" d=\"M146.486,-103.726C134.618,-94.2406 122,-84.1551 110.19,-74.7159\"/>\r\n",
       "<polygon fill=\"black\" stroke=\"black\" points=\"112.159,-71.8091 102.163,-68.2996 107.789,-77.2771 112.159,-71.8091\"/>\r\n",
       "</g>\r\n",
       "<!-- 4 -->\r\n",
       "<g id=\"node5\" class=\"node\"><title>4</title>\r\n",
       "<path fill=\"#9cf2c0\" stroke=\"black\" d=\"M243.5,-68C243.5,-68 151.5,-68 151.5,-68 145.5,-68 139.5,-62 139.5,-56 139.5,-56 139.5,-12 139.5,-12 139.5,-6 145.5,-0 151.5,-0 151.5,-0 243.5,-0 243.5,-0 249.5,-0 255.5,-6 255.5,-12 255.5,-12 255.5,-56 255.5,-56 255.5,-62 249.5,-68 243.5,-68\"/>\r\n",
       "<text text-anchor=\"middle\" x=\"197.5\" y=\"-52.8\" font-family=\"Helvetica,sans-Serif\" font-size=\"14.00\">entropy = 1.371</text>\r\n",
       "<text text-anchor=\"middle\" x=\"197.5\" y=\"-37.8\" font-family=\"Helvetica,sans-Serif\" font-size=\"14.00\">samples = 5</text>\r\n",
       "<text text-anchor=\"middle\" x=\"197.5\" y=\"-22.8\" font-family=\"Helvetica,sans-Serif\" font-size=\"14.00\">value = [1, 3, 1]</text>\r\n",
       "<text text-anchor=\"middle\" x=\"197.5\" y=\"-7.8\" font-family=\"Helvetica,sans-Serif\" font-size=\"14.00\">class = Uro</text>\r\n",
       "</g>\r\n",
       "<!-- 2&#45;&gt;4 -->\r\n",
       "<g id=\"edge4\" class=\"edge\"><title>2&#45;&gt;4</title>\r\n",
       "<path fill=\"none\" stroke=\"black\" d=\"M197.5,-103.726C197.5,-95.5175 197.5,-86.8595 197.5,-78.56\"/>\r\n",
       "<polygon fill=\"black\" stroke=\"black\" points=\"201,-78.2996 197.5,-68.2996 194,-78.2996 201,-78.2996\"/>\r\n",
       "</g>\r\n",
       "<!-- 6 -->\r\n",
       "<g id=\"node7\" class=\"node\"><title>6</title>\r\n",
       "<path fill=\"#8139e5\" stroke=\"black\" d=\"M375,-68C375,-68 286,-68 286,-68 280,-68 274,-62 274,-56 274,-56 274,-12 274,-12 274,-6 280,-0 286,-0 286,-0 375,-0 375,-0 381,-0 387,-6 387,-12 387,-12 387,-56 387,-56 387,-62 381,-68 375,-68\"/>\r\n",
       "<text text-anchor=\"middle\" x=\"330.5\" y=\"-52.8\" font-family=\"Helvetica,sans-Serif\" font-size=\"14.00\">entropy = 0.0</text>\r\n",
       "<text text-anchor=\"middle\" x=\"330.5\" y=\"-37.8\" font-family=\"Helvetica,sans-Serif\" font-size=\"14.00\">samples = 1</text>\r\n",
       "<text text-anchor=\"middle\" x=\"330.5\" y=\"-22.8\" font-family=\"Helvetica,sans-Serif\" font-size=\"14.00\">value = [0, 0, 1]</text>\r\n",
       "<text text-anchor=\"middle\" x=\"330.5\" y=\"-7.8\" font-family=\"Helvetica,sans-Serif\" font-size=\"14.00\">class = GU</text>\r\n",
       "</g>\r\n",
       "<!-- 5&#45;&gt;6 -->\r\n",
       "<g id=\"edge6\" class=\"edge\"><title>5&#45;&gt;6</title>\r\n",
       "<path fill=\"none\" stroke=\"black\" d=\"M392.636,-103.726C384.39,-94.6054 375.642,-84.93 367.395,-75.8078\"/>\r\n",
       "<polygon fill=\"black\" stroke=\"black\" points=\"369.909,-73.3701 360.606,-68.2996 364.717,-78.0647 369.909,-73.3701\"/>\r\n",
       "</g>\r\n",
       "<!-- 7 -->\r\n",
       "<g id=\"node8\" class=\"node\"><title>7</title>\r\n",
       "<path fill=\"#e58139\" stroke=\"black\" d=\"M514,-68C514,-68 417,-68 417,-68 411,-68 405,-62 405,-56 405,-56 405,-12 405,-12 405,-6 411,-0 417,-0 417,-0 514,-0 514,-0 520,-0 526,-6 526,-12 526,-12 526,-56 526,-56 526,-62 520,-68 514,-68\"/>\r\n",
       "<text text-anchor=\"middle\" x=\"465.5\" y=\"-52.8\" font-family=\"Helvetica,sans-Serif\" font-size=\"14.00\">entropy = 0.0</text>\r\n",
       "<text text-anchor=\"middle\" x=\"465.5\" y=\"-37.8\" font-family=\"Helvetica,sans-Serif\" font-size=\"14.00\">samples = 16</text>\r\n",
       "<text text-anchor=\"middle\" x=\"465.5\" y=\"-22.8\" font-family=\"Helvetica,sans-Serif\" font-size=\"14.00\">value = [16, 0, 0]</text>\r\n",
       "<text text-anchor=\"middle\" x=\"465.5\" y=\"-7.8\" font-family=\"Helvetica,sans-Serif\" font-size=\"14.00\">class = BaSq</text>\r\n",
       "</g>\r\n",
       "<!-- 5&#45;&gt;7 -->\r\n",
       "<g id=\"edge7\" class=\"edge\"><title>5&#45;&gt;7</title>\r\n",
       "<path fill=\"none\" stroke=\"black\" d=\"M442.905,-103.726C445.664,-95.3351 448.577,-86.4745 451.361,-78.0072\"/>\r\n",
       "<polygon fill=\"black\" stroke=\"black\" points=\"454.754,-78.8925 454.552,-68.2996 448.104,-76.7062 454.754,-78.8925\"/>\r\n",
       "</g>\r\n",
       "<!-- 9 -->\r\n",
       "<g id=\"node10\" class=\"node\"><title>9</title>\r\n",
       "<path fill=\"#4de88e\" stroke=\"black\" d=\"M700,-187C700,-187 587,-187 587,-187 581,-187 575,-181 575,-175 575,-175 575,-116 575,-116 575,-110 581,-104 587,-104 587,-104 700,-104 700,-104 706,-104 712,-110 712,-116 712,-116 712,-175 712,-175 712,-181 706,-187 700,-187\"/>\r\n",
       "<text text-anchor=\"middle\" x=\"643.5\" y=\"-171.8\" font-family=\"Helvetica,sans-Serif\" font-size=\"14.00\">FGFR3 &lt;= 0.75</text>\r\n",
       "<text text-anchor=\"middle\" x=\"643.5\" y=\"-156.8\" font-family=\"Helvetica,sans-Serif\" font-size=\"14.00\">entropy = 0.446</text>\r\n",
       "<text text-anchor=\"middle\" x=\"643.5\" y=\"-141.8\" font-family=\"Helvetica,sans-Serif\" font-size=\"14.00\">samples = 140</text>\r\n",
       "<text text-anchor=\"middle\" x=\"643.5\" y=\"-126.8\" font-family=\"Helvetica,sans-Serif\" font-size=\"14.00\">value = [0, 127, 13]</text>\r\n",
       "<text text-anchor=\"middle\" x=\"643.5\" y=\"-111.8\" font-family=\"Helvetica,sans-Serif\" font-size=\"14.00\">class = Uro</text>\r\n",
       "</g>\r\n",
       "<!-- 8&#45;&gt;9 -->\r\n",
       "<g id=\"edge9\" class=\"edge\"><title>8&#45;&gt;9</title>\r\n",
       "<path fill=\"none\" stroke=\"black\" d=\"M643.5,-222.907C643.5,-214.649 643.5,-205.864 643.5,-197.302\"/>\r\n",
       "<polygon fill=\"black\" stroke=\"black\" points=\"647,-197.021 643.5,-187.021 640,-197.021 647,-197.021\"/>\r\n",
       "</g>\r\n",
       "<!-- 12 -->\r\n",
       "<g id=\"node13\" class=\"node\"><title>12</title>\r\n",
       "<path fill=\"#f5cfb3\" stroke=\"black\" d=\"M943,-187C943,-187 838,-187 838,-187 832,-187 826,-181 826,-175 826,-175 826,-116 826,-116 826,-110 832,-104 838,-104 838,-104 943,-104 943,-104 949,-104 955,-110 955,-116 955,-116 955,-175 955,-175 955,-181 949,-187 943,-187\"/>\r\n",
       "<text text-anchor=\"middle\" x=\"890.5\" y=\"-171.8\" font-family=\"Helvetica,sans-Serif\" font-size=\"14.00\">KRT14 &lt;= 1.425</text>\r\n",
       "<text text-anchor=\"middle\" x=\"890.5\" y=\"-156.8\" font-family=\"Helvetica,sans-Serif\" font-size=\"14.00\">entropy = 0.959</text>\r\n",
       "<text text-anchor=\"middle\" x=\"890.5\" y=\"-141.8\" font-family=\"Helvetica,sans-Serif\" font-size=\"14.00\">samples = 42</text>\r\n",
       "<text text-anchor=\"middle\" x=\"890.5\" y=\"-126.8\" font-family=\"Helvetica,sans-Serif\" font-size=\"14.00\">value = [26, 16, 0]</text>\r\n",
       "<text text-anchor=\"middle\" x=\"890.5\" y=\"-111.8\" font-family=\"Helvetica,sans-Serif\" font-size=\"14.00\">class = BaSq</text>\r\n",
       "</g>\r\n",
       "<!-- 8&#45;&gt;12 -->\r\n",
       "<g id=\"edge12\" class=\"edge\"><title>8&#45;&gt;12</title>\r\n",
       "<path fill=\"none\" stroke=\"black\" d=\"M716.606,-228.871C748.197,-213.907 785.099,-196.427 816.761,-181.429\"/>\r\n",
       "<polygon fill=\"black\" stroke=\"black\" points=\"818.435,-184.509 825.974,-177.065 815.438,-178.183 818.435,-184.509\"/>\r\n",
       "</g>\r\n",
       "<!-- 10 -->\r\n",
       "<g id=\"node11\" class=\"node\"><title>10</title>\r\n",
       "<path fill=\"#7beeab\" stroke=\"black\" d=\"M661,-68C661,-68 556,-68 556,-68 550,-68 544,-62 544,-56 544,-56 544,-12 544,-12 544,-6 550,-0 556,-0 556,-0 661,-0 661,-0 667,-0 673,-6 673,-12 673,-12 673,-56 673,-56 673,-62 667,-68 661,-68\"/>\r\n",
       "<text text-anchor=\"middle\" x=\"608.5\" y=\"-52.8\" font-family=\"Helvetica,sans-Serif\" font-size=\"14.00\">entropy = 0.811</text>\r\n",
       "<text text-anchor=\"middle\" x=\"608.5\" y=\"-37.8\" font-family=\"Helvetica,sans-Serif\" font-size=\"14.00\">samples = 48</text>\r\n",
       "<text text-anchor=\"middle\" x=\"608.5\" y=\"-22.8\" font-family=\"Helvetica,sans-Serif\" font-size=\"14.00\">value = [0, 36, 12]</text>\r\n",
       "<text text-anchor=\"middle\" x=\"608.5\" y=\"-7.8\" font-family=\"Helvetica,sans-Serif\" font-size=\"14.00\">class = Uro</text>\r\n",
       "</g>\r\n",
       "<!-- 9&#45;&gt;10 -->\r\n",
       "<g id=\"edge10\" class=\"edge\"><title>9&#45;&gt;10</title>\r\n",
       "<path fill=\"none\" stroke=\"black\" d=\"M630.467,-103.726C627.785,-95.3351 624.953,-86.4745 622.247,-78.0072\"/>\r\n",
       "<polygon fill=\"black\" stroke=\"black\" points=\"625.522,-76.7592 619.144,-68.2996 618.855,-78.8905 625.522,-76.7592\"/>\r\n",
       "</g>\r\n",
       "<!-- 11 -->\r\n",
       "<g id=\"node12\" class=\"node\"><title>11</title>\r\n",
       "<path fill=\"#3be582\" stroke=\"black\" d=\"M800,-68C800,-68 703,-68 703,-68 697,-68 691,-62 691,-56 691,-56 691,-12 691,-12 691,-6 697,-0 703,-0 703,-0 800,-0 800,-0 806,-0 812,-6 812,-12 812,-12 812,-56 812,-56 812,-62 806,-68 800,-68\"/>\r\n",
       "<text text-anchor=\"middle\" x=\"751.5\" y=\"-52.8\" font-family=\"Helvetica,sans-Serif\" font-size=\"14.00\">entropy = 0.087</text>\r\n",
       "<text text-anchor=\"middle\" x=\"751.5\" y=\"-37.8\" font-family=\"Helvetica,sans-Serif\" font-size=\"14.00\">samples = 92</text>\r\n",
       "<text text-anchor=\"middle\" x=\"751.5\" y=\"-22.8\" font-family=\"Helvetica,sans-Serif\" font-size=\"14.00\">value = [0, 91, 1]</text>\r\n",
       "<text text-anchor=\"middle\" x=\"751.5\" y=\"-7.8\" font-family=\"Helvetica,sans-Serif\" font-size=\"14.00\">class = Uro</text>\r\n",
       "</g>\r\n",
       "<!-- 9&#45;&gt;11 -->\r\n",
       "<g id=\"edge11\" class=\"edge\"><title>9&#45;&gt;11</title>\r\n",
       "<path fill=\"none\" stroke=\"black\" d=\"M683.715,-103.726C692.801,-94.5142 702.445,-84.7364 711.521,-75.5343\"/>\r\n",
       "<polygon fill=\"black\" stroke=\"black\" points=\"714.126,-77.877 718.657,-68.2996 709.143,-72.9615 714.126,-77.877\"/>\r\n",
       "</g>\r\n",
       "<!-- 13 -->\r\n",
       "<g id=\"node14\" class=\"node\"><title>13</title>\r\n",
       "<path fill=\"#77eda8\" stroke=\"black\" d=\"M939,-68C939,-68 842,-68 842,-68 836,-68 830,-62 830,-56 830,-56 830,-12 830,-12 830,-6 836,-0 842,-0 842,-0 939,-0 939,-0 945,-0 951,-6 951,-12 951,-12 951,-56 951,-56 951,-62 945,-68 939,-68\"/>\r\n",
       "<text text-anchor=\"middle\" x=\"890.5\" y=\"-52.8\" font-family=\"Helvetica,sans-Serif\" font-size=\"14.00\">entropy = 0.792</text>\r\n",
       "<text text-anchor=\"middle\" x=\"890.5\" y=\"-37.8\" font-family=\"Helvetica,sans-Serif\" font-size=\"14.00\">samples = 21</text>\r\n",
       "<text text-anchor=\"middle\" x=\"890.5\" y=\"-22.8\" font-family=\"Helvetica,sans-Serif\" font-size=\"14.00\">value = [5, 16, 0]</text>\r\n",
       "<text text-anchor=\"middle\" x=\"890.5\" y=\"-7.8\" font-family=\"Helvetica,sans-Serif\" font-size=\"14.00\">class = Uro</text>\r\n",
       "</g>\r\n",
       "<!-- 12&#45;&gt;13 -->\r\n",
       "<g id=\"edge13\" class=\"edge\"><title>12&#45;&gt;13</title>\r\n",
       "<path fill=\"none\" stroke=\"black\" d=\"M890.5,-103.726C890.5,-95.5175 890.5,-86.8595 890.5,-78.56\"/>\r\n",
       "<polygon fill=\"black\" stroke=\"black\" points=\"894,-78.2996 890.5,-68.2996 887,-78.2996 894,-78.2996\"/>\r\n",
       "</g>\r\n",
       "<!-- 14 -->\r\n",
       "<g id=\"node15\" class=\"node\"><title>14</title>\r\n",
       "<path fill=\"#e58139\" stroke=\"black\" d=\"M1078,-68C1078,-68 981,-68 981,-68 975,-68 969,-62 969,-56 969,-56 969,-12 969,-12 969,-6 975,-0 981,-0 981,-0 1078,-0 1078,-0 1084,-0 1090,-6 1090,-12 1090,-12 1090,-56 1090,-56 1090,-62 1084,-68 1078,-68\"/>\r\n",
       "<text text-anchor=\"middle\" x=\"1029.5\" y=\"-52.8\" font-family=\"Helvetica,sans-Serif\" font-size=\"14.00\">entropy = 0.0</text>\r\n",
       "<text text-anchor=\"middle\" x=\"1029.5\" y=\"-37.8\" font-family=\"Helvetica,sans-Serif\" font-size=\"14.00\">samples = 21</text>\r\n",
       "<text text-anchor=\"middle\" x=\"1029.5\" y=\"-22.8\" font-family=\"Helvetica,sans-Serif\" font-size=\"14.00\">value = [21, 0, 0]</text>\r\n",
       "<text text-anchor=\"middle\" x=\"1029.5\" y=\"-7.8\" font-family=\"Helvetica,sans-Serif\" font-size=\"14.00\">class = BaSq</text>\r\n",
       "</g>\r\n",
       "<!-- 12&#45;&gt;14 -->\r\n",
       "<g id=\"edge14\" class=\"edge\"><title>12&#45;&gt;14</title>\r\n",
       "<path fill=\"none\" stroke=\"black\" d=\"M942.258,-103.726C954.3,-94.2406 967.102,-84.1551 979.084,-74.7159\"/>\r\n",
       "<polygon fill=\"black\" stroke=\"black\" points=\"981.54,-77.2372 987.229,-68.2996 977.208,-71.7385 981.54,-77.2372\"/>\r\n",
       "</g>\r\n",
       "</g>\r\n",
       "</svg>\r\n"
      ],
      "text/plain": [
       "<graphviz.files.Source at 0x237ac849a90>"
      ]
     },
     "execution_count": 186,
     "metadata": {},
     "output_type": "execute_result"
    }
   ],
   "source": [
    "# Visualize the tree by graphiz\n",
    "import graphviz\n",
    "from sklearn import tree\n",
    "from IPython.display import Image\n",
    "from IPython.display import Image  \n",
    "\n",
    "feature_names = [\"KRT14\", \"KRT5\", \"CDH3\", \"FOXA1\", \"GATA3\", \"PPARG\", \"RB1\" , \"CCND1\", \"CDKN2Ap16\", \"FGFR3\", \"TP63\"]\n",
    "dot_data = tree.export_graphviz(classifier, out_file=None, filled=True,feature_names = feature_names, rounded = True, class_names=class_names)\n",
    "graph = graphviz.Source(dot_data)\n",
    "graph\n",
    "#graph.render('round-table.pdf', view=True)  "
   ]
  },
  {
   "cell_type": "markdown",
   "metadata": {},
   "source": [
    "_____________________________________________________________________________________________________________________________________________"
   ]
  },
  {
   "cell_type": "markdown",
   "metadata": {},
   "source": [
    "### 6- Find decision tree depth via cross-validation"
   ]
  },
  {
   "cell_type": "code",
   "execution_count": 187,
   "metadata": {},
   "outputs": [
    {
     "data": {
      "image/png": "[encoded data removed]",
      "text/plain": [
       "<Figure size 1080x360 with 1 Axes>"
      ]
     },
     "metadata": {
      "needs_background": "light"
     },
     "output_type": "display_data"
    }
   ],
   "source": [
    "#from sklearn.tree import DecisionTreeClassifier\n",
    "from sklearn.model_selection import cross_val_score\n",
    "import numpy as np\n",
    "import matplotlib.pyplot as plt\n",
    "\n",
    "# function for fitting trees of various depths on the training data using cross-validation\n",
    "def run_cross_validation_on_trees(X, y, tree_depths, cv=5, scoring='accuracy'):\n",
    "    cv_scores_list = []\n",
    "    cv_scores_std = []\n",
    "    cv_scores_mean = []\n",
    "    accuracy_scores = []\n",
    "    for depth in tree_depths:\n",
    "        tree_model = DecisionTreeClassifier(max_depth=depth)\n",
    "        cv_scores = cross_val_score(tree_model, X, y, cv=cv, scoring=scoring)\n",
    "        cv_scores_list.append(cv_scores)\n",
    "        cv_scores_mean.append(cv_scores.mean())\n",
    "        cv_scores_std.append(cv_scores.std())\n",
    "        accuracy_scores.append(tree_model.fit(X, y).score(X, y))\n",
    "    cv_scores_mean = np.array(cv_scores_mean)\n",
    "    cv_scores_std = np.array(cv_scores_std)\n",
    "    accuracy_scores = np.array(accuracy_scores)\n",
    "    return cv_scores_mean, cv_scores_std, accuracy_scores\n",
    "  \n",
    "# function for plotting cross-validation results\n",
    "def plot_cross_validation_on_trees(depths, cv_scores_mean, cv_scores_std, accuracy_scores, title):\n",
    "    fig, ax = plt.subplots(1,1, figsize=(15,5))\n",
    "    ax.plot(depths, cv_scores_mean, '-o', label='mean cross-validation accuracy', alpha=0.9)\n",
    "    ax.fill_between(depths, cv_scores_mean-2*cv_scores_std, cv_scores_mean+2*cv_scores_std, alpha=0.2)\n",
    "    ylim = plt.ylim()\n",
    "    ax.plot(depths, accuracy_scores, '-*', label='train accuracy', alpha=0.9)\n",
    "    ax.set_title(title, fontsize=16)\n",
    "    ax.set_xlabel('Tree depth', fontsize=14)\n",
    "    ax.set_ylabel('Accuracy', fontsize=14)\n",
    "    ax.set_ylim(ylim)\n",
    "    ax.set_xticks(depths)\n",
    "    ax.legend()\n",
    "\n",
    "# fitting trees of depth 1 to 24\n",
    "sm_tree_depths = range(1,25)\n",
    "sm_cv_scores_mean, sm_cv_scores_std, sm_accuracy_scores = run_cross_validation_on_trees(X_train, y_train, sm_tree_depths)\n",
    "\n",
    "# plotting accuracy\n",
    "plot_cross_validation_on_trees(sm_tree_depths, sm_cv_scores_mean, sm_cv_scores_std, sm_accuracy_scores, \n",
    "                               'Accuracy per decision tree depth on training data')\n"
   ]
  },
  {
   "cell_type": "markdown",
   "metadata": {},
   "source": [
    "Considering the mean of CV accuracy, train accuracy and SD of mean cross-validation accuracy depth of 3 seems to be the choise. Code credit goes to [Michel Kana](https://gist.github.com/michelkana)"
   ]
  },
  {
   "cell_type": "markdown",
   "metadata": {},
   "source": [
    "### 7- Feature importance\n"
   ]
  },
  {
   "cell_type": "code",
   "execution_count": 188,
   "metadata": {},
   "outputs": [
    {
     "data": {
      "text/html": [
       "<div>\n",
       "<style scoped>\n",
       "    .dataframe tbody tr th:only-of-type {\n",
       "        vertical-align: middle;\n",
       "    }\n",
       "\n",
       "    .dataframe tbody tr th {\n",
       "        vertical-align: top;\n",
       "    }\n",
       "\n",
       "    .dataframe thead th {\n",
       "        text-align: right;\n",
       "    }\n",
       "</style>\n",
       "<table border=\"1\" class=\"dataframe\">\n",
       "  <thead>\n",
       "    <tr style=\"text-align: right;\">\n",
       "      <th></th>\n",
       "      <th>feature</th>\n",
       "      <th>importance</th>\n",
       "    </tr>\n",
       "  </thead>\n",
       "  <tbody>\n",
       "    <tr>\n",
       "      <th>6</th>\n",
       "      <td>RB1</td>\n",
       "      <td>0.416</td>\n",
       "    </tr>\n",
       "    <tr>\n",
       "      <th>0</th>\n",
       "      <td>KRT14</td>\n",
       "      <td>0.335</td>\n",
       "    </tr>\n",
       "    <tr>\n",
       "      <th>9</th>\n",
       "      <td>FGFR3</td>\n",
       "      <td>0.077</td>\n",
       "    </tr>\n",
       "    <tr>\n",
       "      <th>10</th>\n",
       "      <td>TP63</td>\n",
       "      <td>0.039</td>\n",
       "    </tr>\n",
       "    <tr>\n",
       "      <th>1</th>\n",
       "      <td>KRT5</td>\n",
       "      <td>0.035</td>\n",
       "    </tr>\n",
       "    <tr>\n",
       "      <th>5</th>\n",
       "      <td>PPARG</td>\n",
       "      <td>0.035</td>\n",
       "    </tr>\n",
       "    <tr>\n",
       "      <th>8</th>\n",
       "      <td>CDKN2Ap16</td>\n",
       "      <td>0.028</td>\n",
       "    </tr>\n",
       "    <tr>\n",
       "      <th>4</th>\n",
       "      <td>GATA3</td>\n",
       "      <td>0.023</td>\n",
       "    </tr>\n",
       "    <tr>\n",
       "      <th>2</th>\n",
       "      <td>CDH3</td>\n",
       "      <td>0.012</td>\n",
       "    </tr>\n",
       "    <tr>\n",
       "      <th>3</th>\n",
       "      <td>FOXA1</td>\n",
       "      <td>0.000</td>\n",
       "    </tr>\n",
       "    <tr>\n",
       "      <th>7</th>\n",
       "      <td>CCND1</td>\n",
       "      <td>0.000</td>\n",
       "    </tr>\n",
       "  </tbody>\n",
       "</table>\n",
       "</div>"
      ],
      "text/plain": [
       "      feature  importance\n",
       "6         RB1       0.416\n",
       "0       KRT14       0.335\n",
       "9       FGFR3       0.077\n",
       "10       TP63       0.039\n",
       "1        KRT5       0.035\n",
       "5       PPARG       0.035\n",
       "8   CDKN2Ap16       0.028\n",
       "4       GATA3       0.023\n",
       "2        CDH3       0.012\n",
       "3       FOXA1       0.000\n",
       "7       CCND1       0.000"
      ]
     },
     "execution_count": 188,
     "metadata": {},
     "output_type": "execute_result"
    }
   ],
   "source": [
    "#Tuning the Depth of a Tree\n",
    "# List of values to try for max_depth:\n",
    "max_depth_range = list(range(1, 6))# List to store the accuracy for each value of max_depth:\n",
    "accuracy = []\n",
    "for depth in max_depth_range:\n",
    "    clf = DecisionTreeClassifier(max_depth = depth, random_state = 0)\n",
    "    clf.fit(X_train, y_train)    \n",
    "    score = clf.score(X_test, y_test)\n",
    "    accuracy.append(score)\n",
    "    \n",
    "importances = pd.DataFrame({'feature':feature_names,'importance':np.round(clf.feature_importances_,3)})\n",
    "importances = importances.sort_values('importance',ascending=False)\n",
    "importances"
   ]
  },
  {
   "cell_type": "markdown",
   "metadata": {},
   "source": [
    "_____________________________________________________________________________________________________________________________________________"
   ]
  },
  {
   "cell_type": "markdown",
   "metadata": {},
   "source": [
    "### 8- multiclass AUC curve analysis & plots\n"
   ]
  },
  {
   "cell_type": "code",
   "execution_count": 189,
   "metadata": {},
   "outputs": [
    {
     "name": "stdout",
     "output_type": "stream",
     "text": [
      "Uro     195\n",
      "GU      109\n",
      "BaSq     57\n",
      "Name: Subtype_IHC, dtype: int64\n",
      "X data looks like [[2.7  2.7  2.7  1.   0.15 0.   9.   2.7  1.   2.   9.  ]\n",
      " [0.   2.7  1.6  0.   0.85 0.   0.   0.   3.   1.5  9.  ]\n",
      " [2.7  2.7  2.7  0.   0.   0.   0.   0.   1.5  0.   9.  ]\n",
      " [0.05 1.8  1.8  3.   2.25 1.6  9.   2.4  0.5  1.   8.  ]\n",
      " [2.7  2.25 2.25 0.5  0.6  0.   9.   1.3  1.   0.   9.  ]\n",
      " [2.7  2.7  2.4  0.   0.1  0.   0.   0.05 1.5  0.5  9.  ]\n",
      " [0.15 0.   0.7  3.   2.55 2.7  9.   1.5  2.   2.   8.  ]\n",
      " [2.7  0.9  2.25 0.   0.45 0.   0.   0.65 3.   0.   7.5 ]\n",
      " [0.15 1.05 1.95 1.5  0.75 0.4  8.   0.35 2.   0.5  7.  ]\n",
      " [2.7  2.7  0.7  0.   0.   0.   7.   0.5  0.   0.   8.  ]]\n",
      "y data looks like ['BaSq' 'BaSq' 'BaSq' 'Uro' 'BaSq' 'BaSq' 'Uro' 'BaSq' 'GU' 'BaSq']\n",
      "X data type is <class 'numpy.ndarray'>\n",
      "y data type is <class 'numpy.ndarray'>\n",
      "X dimention is (361, 11)\n",
      "y dimention is (361,)\n",
      "[0 0 1 0 0 1 0 2 0 1 0 1 2 0 1 0 0 0 0]\n"
     ]
    }
   ],
   "source": [
    "import matplotlib.pyplot as plt\n",
    "from itertools import cycle\n",
    "#from sklearn.model_selection import train_test_split\n",
    "from sklearn.preprocessing import label_binarize\n",
    "from sklearn.metrics import roc_curve, auc\n",
    "from sklearn.multiclass import OneVsRestClassifier\n",
    "#from sklearn.tree import DecisionTreeClassifier\n",
    "\n",
    "df = data\n",
    "print(df.Subtype_IHC.value_counts())\n",
    "#________________this code chunk do the job but reset categorical variable level________#\n",
    "# create a column to encode Subtype_IHC to numerical \n",
    "#df.Subtype_IHC = pd.Categorical(df.Subtype_IHC)\n",
    "#df['target'] = df.Subtype_IHC.cat.codes\n",
    "\n",
    "X = df[[\"KRT14\", \"KRT5\", \"CDH3\", \"FOXA1\", \"GATA3\", \"PPARG\", \"RB1\" , \"CCND1\", \"CDKN2Ap16\", \"FGFR3\", \"TP63\"]].values\n",
    "y = data.Subtype_IHC.values\n",
    "print('X data looks like', X[0:10])\n",
    "print('y data looks like', y[0:10])\n",
    "print('X data type is', type(X))\n",
    "print('y data type is', type(y))\n",
    "print('X dimention is', X.shape)\n",
    "print('y dimention is', y.shape)\n",
    "\n",
    "\n",
    "# Binarize the output\n",
    "y,class_names = pd.factorize(y)\n",
    "print(y[1:20])\n",
    "y = label_binarize(y, classes=[0, 1, 2])\n",
    "n_classes = y.shape[1]\n",
    "\n"
   ]
  },
  {
   "cell_type": "code",
   "execution_count": 190,
   "metadata": {},
   "outputs": [
    {
     "name": "stdout",
     "output_type": "stream",
     "text": [
      "<class 'numpy.ndarray'>\n"
     ]
    }
   ],
   "source": [
    "\n",
    "X_train, X_test, y_train, y_test = train_test_split(X, y, test_size = 0.25, stratify=y, random_state = 42)\n",
    "\n",
    "print(type(y))\n",
    "\n",
    "# \n",
    "classifier_2 = OneVsRestClassifier(DecisionTreeClassifier(criterion='entropy',max_depth=3, random_state=42))\n",
    "y_score = classifier_2.fit(X_train, y_train).predict_proba(X_test)"
   ]
  },
  {
   "cell_type": "code",
   "execution_count": 191,
   "metadata": {},
   "outputs": [
    {
     "data": {
      "image/png": "[encoded data removed]",
      "text/plain": [
       "<Figure size 432x288 with 1 Axes>"
      ]
     },
     "metadata": {
      "needs_background": "light"
     },
     "output_type": "display_data"
    }
   ],
   "source": [
    "fpr = dict()\n",
    "tpr = dict()\n",
    "roc_auc = dict()\n",
    "for i in range(n_classes):\n",
    "    fpr[i], tpr[i], _ = roc_curve(y_test[:, i], y_score[:, i])\n",
    "    roc_auc[i] = auc(fpr[i], tpr[i])\n",
    "colors = cycle(['blue', 'red', 'green'])\n",
    "lw = 1\n",
    "for i, color in zip(range(n_classes), colors):\n",
    "    plt.plot(fpr[i], tpr[i], color=color, lw=lw,\n",
    "             label='ROC curve of class {0} (area = {1:0.2f})'\n",
    "             ''.format(i, roc_auc[i]))\n",
    "\n",
    "plt.plot([0, 1], [0, 1], 'k--', lw=lw)\n",
    "plt.xlim([-0.05, 1.0])\n",
    "plt.ylim([0.0, 1.05])\n",
    "plt.xlabel('False Positive Rate')\n",
    "plt.ylabel('True Positive Rate')\n",
    "plt.title('Receiver operating characteristic for multi-class data')\n",
    "plt.legend(loc=\"lower right\")\n",
    "plt.show()"
   ]
  },
  {
   "cell_type": "markdown",
   "metadata": {},
   "source": [
    "_____________________________________________________________________________________________________________________________________________"
   ]
  },
  {
   "cell_type": "markdown",
   "metadata": {},
   "source": [
    "## Classifier with reduced features"
   ]
  },
  {
   "cell_type": "markdown",
   "metadata": {},
   "source": [
    "In order to make classifiers to work on NMIBC dataset like Sjödahl et al. Int. J. Cancer: 146, 2636–2647 (2019), the classifiers should be modified in the way that they work with the common features between the two dataset.Since both dataset are coming from the same laboratory the classifres should work on NMIBC dataset also without being affected by serious biases like those arising from data preparation.\n",
    "\n",
    "Fortunately important features are common (7 out of 10) between two datasets."
   ]
  },
  {
   "cell_type": "markdown",
   "metadata": {},
   "source": [
    "Subtypes of samples in the NMIBC data  set is as follows:\n",
    "    \n",
    "    Ba/Sq    GU      Mes Sc/NE   Uro \n",
    "    8         55     7     6     192 "
   ]
  },
  {
   "cell_type": "markdown",
   "metadata": {},
   "source": [
    "Common features between NMIBC dataset and the selected markers of MIBC:\n",
    "\n",
    "\"CCND1\",\"CDKN2Ap16\",\"FGFR3\",\"FOXA1\",\"GATA3\",\"KRT14\",\"KRT5\",\"RB1\"  "
   ]
  },
  {
   "cell_type": "markdown",
   "metadata": {},
   "source": [
    "Here first I will rebuild the MIBC classifiers based on the common features with NMIBC, then the NMIBC data set will be feed to the classifiers as  validation dataset."
   ]
  },
  {
   "cell_type": "code",
   "execution_count": 192,
   "metadata": {},
   "outputs": [
    {
     "name": "stdout",
     "output_type": "stream",
     "text": [
      "subtypes codes\n",
      "  Code  Subtype\n",
      "------  ---------\n",
      "     0  BaSq\n",
      "     1  Uro\n",
      "     2  GU\n",
      "\n",
      "Classification results on training set\n",
      "Accuracy: 0.92\n",
      "Confusion Matrix: \n",
      " [[ 37   5   1]\n",
      " [  0 143   3]\n",
      " [  0  13  68]]\n",
      "              precision    recall  f1-score   support\n",
      "\n",
      "           0       1.00      0.86      0.92        43\n",
      "           1       0.89      0.98      0.93       146\n",
      "           2       0.94      0.84      0.89        81\n",
      "\n",
      "    accuracy                           0.92       270\n",
      "   macro avg       0.94      0.89      0.92       270\n",
      "weighted avg       0.92      0.92      0.92       270\n",
      "\n",
      "Classification results on test set\n",
      "Accuracy: 0.90\n",
      "Confusion Matrix: \n",
      " [[10  3  1]\n",
      " [ 0 49  0]\n",
      " [ 0  5 23]]\n",
      "              precision    recall  f1-score   support\n",
      "\n",
      "           0       1.00      0.71      0.83        14\n",
      "           1       0.86      1.00      0.92        49\n",
      "           2       0.96      0.82      0.88        28\n",
      "\n",
      "    accuracy                           0.90        91\n",
      "   macro avg       0.94      0.85      0.88        91\n",
      "weighted avg       0.91      0.90      0.90        91\n",
      "\n"
     ]
    }
   ],
   "source": [
    "X = data[[\"KRT14\", \"KRT5\", \"FOXA1\", \"GATA3\",  \"RB1\" , \"CCND1\", \"CDKN2Ap16\", \"FGFR3\"]].values\n",
    "y = data.iloc[:,8].values\n",
    "# codes; 0 = BaSq, 1 = Uro, 2 = GU\n",
    "\n",
    "# encode IHC subtype as a dummy variable\n",
    "y,class_names = pd.factorize(y)\n",
    "\n",
    "X_train, X_test, y_train, y_test = train_test_split(X, y, test_size = 0.25, stratify=y, random_state = 42)\n",
    "\n",
    "# Fitting Classifier to the Training Set\n",
    "classifier = DecisionTreeClassifier(criterion='entropy',max_depth=3, random_state=42)\n",
    "classifier.fit(X_train, y_train)\n",
    "\n",
    "# Model performance on training set\n",
    "y_pred_train =classifier.predict(X_train)\n",
    "\n",
    "print('subtypes codes')\n",
    "tab = [[0, 'BaSq'],[1, 'Uro'],[2, 'GU']] \n",
    "\n",
    "print (tabulate(tab, headers=[\"Code\", \"Subtype\"]))\n",
    "print('')\n",
    "\n",
    "print('Classification results on training set')\n",
    "\n",
    "accuracy = metrics.accuracy_score(y_train, y_pred_train)\n",
    "print(\"Accuracy: {:.2f}\".format(accuracy))\n",
    "cm=confusion_matrix(y_train,y_pred_train)\n",
    "\n",
    "print('Confusion Matrix: \\n', cm)\n",
    "print(classification_report(y_train, y_pred_train))\n",
    "y_pred=classifier.predict(X_test)\n",
    "\n",
    "# Classification results on test set\n",
    "print('Classification results on test set')\n",
    "accuracy = metrics.accuracy_score(y_test, y_pred)\n",
    "print(\"Accuracy: {:.2f}\".format(accuracy))\n",
    "cm=confusion_matrix(y_test,y_pred)\n",
    "print('Confusion Matrix: \\n', cm)\n",
    "print(classification_report(y_test, y_pred))"
   ]
  },
  {
   "cell_type": "code",
   "execution_count": 193,
   "metadata": {},
   "outputs": [
    {
     "data": {
      "image/svg+xml": [
       "<?xml version=\"1.0\" encoding=\"UTF-8\" standalone=\"no\"?>\r\n",
       "<!DOCTYPE svg PUBLIC \"-//W3C//DTD SVG 1.1//EN\"\r\n",
       " \"http://www.w3.org/Graphics/SVG/1.1/DTD/svg11.dtd\">\r\n",
       "<!-- Generated by graphviz version 2.38.0 (20140413.2041)\r\n",
       " -->\r\n",
       "<!-- Title: Tree Pages: 1 -->\r\n",
       "<svg width=\"1098pt\" height=\"433pt\"\r\n",
       " viewBox=\"0.00 0.00 1098.00 433.00\" xmlns=\"http://www.w3.org/2000/svg\" xmlns:xlink=\"http://www.w3.org/1999/xlink\">\r\n",
       "<g id=\"graph0\" class=\"graph\" transform=\"scale(1 1) rotate(0) translate(4 429)\">\r\n",
       "<title>Tree</title>\r\n",
       "<polygon fill=\"white\" stroke=\"none\" points=\"-4,4 -4,-429 1094,-429 1094,4 -4,4\"/>\r\n",
       "<!-- 0 -->\r\n",
       "<g id=\"node1\" class=\"node\"><title>0</title>\r\n",
       "<path fill=\"#bbf6d4\" stroke=\"black\" d=\"M599.5,-425C599.5,-425 477.5,-425 477.5,-425 471.5,-425 465.5,-419 465.5,-413 465.5,-413 465.5,-354 465.5,-354 465.5,-348 471.5,-342 477.5,-342 477.5,-342 599.5,-342 599.5,-342 605.5,-342 611.5,-348 611.5,-354 611.5,-354 611.5,-413 611.5,-413 611.5,-419 605.5,-425 599.5,-425\"/>\r\n",
       "<text text-anchor=\"middle\" x=\"538.5\" y=\"-409.8\" font-family=\"Helvetica,sans-Serif\" font-size=\"14.00\">RB1 &lt;= 3.25</text>\r\n",
       "<text text-anchor=\"middle\" x=\"538.5\" y=\"-394.8\" font-family=\"Helvetica,sans-Serif\" font-size=\"14.00\">entropy = 1.423</text>\r\n",
       "<text text-anchor=\"middle\" x=\"538.5\" y=\"-379.8\" font-family=\"Helvetica,sans-Serif\" font-size=\"14.00\">samples = 270</text>\r\n",
       "<text text-anchor=\"middle\" x=\"538.5\" y=\"-364.8\" font-family=\"Helvetica,sans-Serif\" font-size=\"14.00\">value = [43, 146, 81]</text>\r\n",
       "<text text-anchor=\"middle\" x=\"538.5\" y=\"-349.8\" font-family=\"Helvetica,sans-Serif\" font-size=\"14.00\">class = Uro</text>\r\n",
       "</g>\r\n",
       "<!-- 1 -->\r\n",
       "<g id=\"node2\" class=\"node\"><title>1</title>\r\n",
       "<path fill=\"#a471ec\" stroke=\"black\" d=\"M485,-306C485,-306 380,-306 380,-306 374,-306 368,-300 368,-294 368,-294 368,-235 368,-235 368,-229 374,-223 380,-223 380,-223 485,-223 485,-223 491,-223 497,-229 497,-235 497,-235 497,-294 497,-294 497,-300 491,-306 485,-306\"/>\r\n",
       "<text text-anchor=\"middle\" x=\"432.5\" y=\"-290.8\" font-family=\"Helvetica,sans-Serif\" font-size=\"14.00\">KRT14 &lt;= 1.5</text>\r\n",
       "<text text-anchor=\"middle\" x=\"432.5\" y=\"-275.8\" font-family=\"Helvetica,sans-Serif\" font-size=\"14.00\">entropy = 0.912</text>\r\n",
       "<text text-anchor=\"middle\" x=\"432.5\" y=\"-260.8\" font-family=\"Helvetica,sans-Serif\" font-size=\"14.00\">samples = 88</text>\r\n",
       "<text text-anchor=\"middle\" x=\"432.5\" y=\"-245.8\" font-family=\"Helvetica,sans-Serif\" font-size=\"14.00\">value = [17, 3, 68]</text>\r\n",
       "<text text-anchor=\"middle\" x=\"432.5\" y=\"-230.8\" font-family=\"Helvetica,sans-Serif\" font-size=\"14.00\">class = GU</text>\r\n",
       "</g>\r\n",
       "<!-- 0&#45;&gt;1 -->\r\n",
       "<g id=\"edge1\" class=\"edge\"><title>0&#45;&gt;1</title>\r\n",
       "<path fill=\"none\" stroke=\"black\" d=\"M501.724,-341.907C493.42,-332.742 484.528,-322.927 475.977,-313.489\"/>\r\n",
       "<polygon fill=\"black\" stroke=\"black\" points=\"478.519,-311.082 469.211,-306.021 473.331,-315.782 478.519,-311.082\"/>\r\n",
       "<text text-anchor=\"middle\" x=\"467.979\" y=\"-327.29\" font-family=\"Helvetica,sans-Serif\" font-size=\"14.00\">True</text>\r\n",
       "</g>\r\n",
       "<!-- 8 -->\r\n",
       "<g id=\"node9\" class=\"node\"><title>8</title>\r\n",
       "<path fill=\"#6beca0\" stroke=\"black\" d=\"M705.5,-306C705.5,-306 583.5,-306 583.5,-306 577.5,-306 571.5,-300 571.5,-294 571.5,-294 571.5,-235 571.5,-235 571.5,-229 577.5,-223 583.5,-223 583.5,-223 705.5,-223 705.5,-223 711.5,-223 717.5,-229 717.5,-235 717.5,-235 717.5,-294 717.5,-294 717.5,-300 711.5,-306 705.5,-306\"/>\r\n",
       "<text text-anchor=\"middle\" x=\"644.5\" y=\"-290.8\" font-family=\"Helvetica,sans-Serif\" font-size=\"14.00\">KRT5 &lt;= 1.575</text>\r\n",
       "<text text-anchor=\"middle\" x=\"644.5\" y=\"-275.8\" font-family=\"Helvetica,sans-Serif\" font-size=\"14.00\">entropy = 0.946</text>\r\n",
       "<text text-anchor=\"middle\" x=\"644.5\" y=\"-260.8\" font-family=\"Helvetica,sans-Serif\" font-size=\"14.00\">samples = 182</text>\r\n",
       "<text text-anchor=\"middle\" x=\"644.5\" y=\"-245.8\" font-family=\"Helvetica,sans-Serif\" font-size=\"14.00\">value = [26, 143, 13]</text>\r\n",
       "<text text-anchor=\"middle\" x=\"644.5\" y=\"-230.8\" font-family=\"Helvetica,sans-Serif\" font-size=\"14.00\">class = Uro</text>\r\n",
       "</g>\r\n",
       "<!-- 0&#45;&gt;8 -->\r\n",
       "<g id=\"edge8\" class=\"edge\"><title>0&#45;&gt;8</title>\r\n",
       "<path fill=\"none\" stroke=\"black\" d=\"M575.276,-341.907C583.58,-332.742 592.472,-322.927 601.023,-313.489\"/>\r\n",
       "<polygon fill=\"black\" stroke=\"black\" points=\"603.669,-315.782 607.789,-306.021 598.481,-311.082 603.669,-315.782\"/>\r\n",
       "<text text-anchor=\"middle\" x=\"609.021\" y=\"-327.29\" font-family=\"Helvetica,sans-Serif\" font-size=\"14.00\">False</text>\r\n",
       "</g>\r\n",
       "<!-- 2 -->\r\n",
       "<g id=\"node3\" class=\"node\"><title>2</title>\r\n",
       "<path fill=\"#8845e7\" stroke=\"black\" d=\"M249,-187C249,-187 146,-187 146,-187 140,-187 134,-181 134,-175 134,-175 134,-116 134,-116 134,-110 140,-104 146,-104 146,-104 249,-104 249,-104 255,-104 261,-110 261,-116 261,-116 261,-175 261,-175 261,-181 255,-187 249,-187\"/>\r\n",
       "<text text-anchor=\"middle\" x=\"197.5\" y=\"-171.8\" font-family=\"Helvetica,sans-Serif\" font-size=\"14.00\">CCND1 &lt;= 0.425</text>\r\n",
       "<text text-anchor=\"middle\" x=\"197.5\" y=\"-156.8\" font-family=\"Helvetica,sans-Serif\" font-size=\"14.00\">entropy = 0.358</text>\r\n",
       "<text text-anchor=\"middle\" x=\"197.5\" y=\"-141.8\" font-family=\"Helvetica,sans-Serif\" font-size=\"14.00\">samples = 71</text>\r\n",
       "<text text-anchor=\"middle\" x=\"197.5\" y=\"-126.8\" font-family=\"Helvetica,sans-Serif\" font-size=\"14.00\">value = [1, 3, 67]</text>\r\n",
       "<text text-anchor=\"middle\" x=\"197.5\" y=\"-111.8\" font-family=\"Helvetica,sans-Serif\" font-size=\"14.00\">class = GU</text>\r\n",
       "</g>\r\n",
       "<!-- 1&#45;&gt;2 -->\r\n",
       "<g id=\"edge2\" class=\"edge\"><title>1&#45;&gt;2</title>\r\n",
       "<path fill=\"none\" stroke=\"black\" d=\"M367.974,-231.374C337.675,-216.289 301.432,-198.245 270.17,-182.68\"/>\r\n",
       "<polygon fill=\"black\" stroke=\"black\" points=\"271.58,-179.473 261.068,-178.149 268.46,-185.739 271.58,-179.473\"/>\r\n",
       "</g>\r\n",
       "<!-- 5 -->\r\n",
       "<g id=\"node6\" class=\"node\"><title>5</title>\r\n",
       "<path fill=\"#e78945\" stroke=\"black\" d=\"M481,-187C481,-187 384,-187 384,-187 378,-187 372,-181 372,-175 372,-175 372,-116 372,-116 372,-110 378,-104 384,-104 384,-104 481,-104 481,-104 487,-104 493,-110 493,-116 493,-116 493,-175 493,-175 493,-181 487,-187 481,-187\"/>\r\n",
       "<text text-anchor=\"middle\" x=\"432.5\" y=\"-171.8\" font-family=\"Helvetica,sans-Serif\" font-size=\"14.00\">FOXA1 &lt;= 0.8</text>\r\n",
       "<text text-anchor=\"middle\" x=\"432.5\" y=\"-156.8\" font-family=\"Helvetica,sans-Serif\" font-size=\"14.00\">entropy = 0.323</text>\r\n",
       "<text text-anchor=\"middle\" x=\"432.5\" y=\"-141.8\" font-family=\"Helvetica,sans-Serif\" font-size=\"14.00\">samples = 17</text>\r\n",
       "<text text-anchor=\"middle\" x=\"432.5\" y=\"-126.8\" font-family=\"Helvetica,sans-Serif\" font-size=\"14.00\">value = [16, 0, 1]</text>\r\n",
       "<text text-anchor=\"middle\" x=\"432.5\" y=\"-111.8\" font-family=\"Helvetica,sans-Serif\" font-size=\"14.00\">class = BaSq</text>\r\n",
       "</g>\r\n",
       "<!-- 1&#45;&gt;5 -->\r\n",
       "<g id=\"edge5\" class=\"edge\"><title>1&#45;&gt;5</title>\r\n",
       "<path fill=\"none\" stroke=\"black\" d=\"M432.5,-222.907C432.5,-214.649 432.5,-205.864 432.5,-197.302\"/>\r\n",
       "<polygon fill=\"black\" stroke=\"black\" points=\"436,-197.021 432.5,-187.021 429,-197.021 436,-197.021\"/>\r\n",
       "</g>\r\n",
       "<!-- 3 -->\r\n",
       "<g id=\"node4\" class=\"node\"><title>3</title>\r\n",
       "<path fill=\"#833ce5\" stroke=\"black\" d=\"M109,-68C109,-68 12,-68 12,-68 6,-68 0,-62 0,-56 0,-56 0,-12 0,-12 0,-6 6,-0 12,-0 12,-0 109,-0 109,-0 115,-0 121,-6 121,-12 121,-12 121,-56 121,-56 121,-62 115,-68 109,-68\"/>\r\n",
       "<text text-anchor=\"middle\" x=\"60.5\" y=\"-52.8\" font-family=\"Helvetica,sans-Serif\" font-size=\"14.00\">entropy = 0.124</text>\r\n",
       "<text text-anchor=\"middle\" x=\"60.5\" y=\"-37.8\" font-family=\"Helvetica,sans-Serif\" font-size=\"14.00\">samples = 59</text>\r\n",
       "<text text-anchor=\"middle\" x=\"60.5\" y=\"-22.8\" font-family=\"Helvetica,sans-Serif\" font-size=\"14.00\">value = [1, 0, 58]</text>\r\n",
       "<text text-anchor=\"middle\" x=\"60.5\" y=\"-7.8\" font-family=\"Helvetica,sans-Serif\" font-size=\"14.00\">class = GU</text>\r\n",
       "</g>\r\n",
       "<!-- 2&#45;&gt;3 -->\r\n",
       "<g id=\"edge3\" class=\"edge\"><title>2&#45;&gt;3</title>\r\n",
       "<path fill=\"none\" stroke=\"black\" d=\"M146.486,-103.726C134.618,-94.2406 122,-84.1551 110.19,-74.7159\"/>\r\n",
       "<polygon fill=\"black\" stroke=\"black\" points=\"112.159,-71.8091 102.163,-68.2996 107.789,-77.2771 112.159,-71.8091\"/>\r\n",
       "</g>\r\n",
       "<!-- 4 -->\r\n",
       "<g id=\"node5\" class=\"node\"><title>4</title>\r\n",
       "<path fill=\"#ab7bee\" stroke=\"black\" d=\"M243.5,-68C243.5,-68 151.5,-68 151.5,-68 145.5,-68 139.5,-62 139.5,-56 139.5,-56 139.5,-12 139.5,-12 139.5,-6 145.5,-0 151.5,-0 151.5,-0 243.5,-0 243.5,-0 249.5,-0 255.5,-6 255.5,-12 255.5,-12 255.5,-56 255.5,-56 255.5,-62 249.5,-68 243.5,-68\"/>\r\n",
       "<text text-anchor=\"middle\" x=\"197.5\" y=\"-52.8\" font-family=\"Helvetica,sans-Serif\" font-size=\"14.00\">entropy = 0.811</text>\r\n",
       "<text text-anchor=\"middle\" x=\"197.5\" y=\"-37.8\" font-family=\"Helvetica,sans-Serif\" font-size=\"14.00\">samples = 12</text>\r\n",
       "<text text-anchor=\"middle\" x=\"197.5\" y=\"-22.8\" font-family=\"Helvetica,sans-Serif\" font-size=\"14.00\">value = [0, 3, 9]</text>\r\n",
       "<text text-anchor=\"middle\" x=\"197.5\" y=\"-7.8\" font-family=\"Helvetica,sans-Serif\" font-size=\"14.00\">class = GU</text>\r\n",
       "</g>\r\n",
       "<!-- 2&#45;&gt;4 -->\r\n",
       "<g id=\"edge4\" class=\"edge\"><title>2&#45;&gt;4</title>\r\n",
       "<path fill=\"none\" stroke=\"black\" d=\"M197.5,-103.726C197.5,-95.5175 197.5,-86.8595 197.5,-78.56\"/>\r\n",
       "<polygon fill=\"black\" stroke=\"black\" points=\"201,-78.2996 197.5,-68.2996 194,-78.2996 201,-78.2996\"/>\r\n",
       "</g>\r\n",
       "<!-- 6 -->\r\n",
       "<g id=\"node7\" class=\"node\"><title>6</title>\r\n",
       "<path fill=\"#e58139\" stroke=\"black\" d=\"M383,-68C383,-68 286,-68 286,-68 280,-68 274,-62 274,-56 274,-56 274,-12 274,-12 274,-6 280,-0 286,-0 286,-0 383,-0 383,-0 389,-0 395,-6 395,-12 395,-12 395,-56 395,-56 395,-62 389,-68 383,-68\"/>\r\n",
       "<text text-anchor=\"middle\" x=\"334.5\" y=\"-52.8\" font-family=\"Helvetica,sans-Serif\" font-size=\"14.00\">entropy = 0.0</text>\r\n",
       "<text text-anchor=\"middle\" x=\"334.5\" y=\"-37.8\" font-family=\"Helvetica,sans-Serif\" font-size=\"14.00\">samples = 16</text>\r\n",
       "<text text-anchor=\"middle\" x=\"334.5\" y=\"-22.8\" font-family=\"Helvetica,sans-Serif\" font-size=\"14.00\">value = [16, 0, 0]</text>\r\n",
       "<text text-anchor=\"middle\" x=\"334.5\" y=\"-7.8\" font-family=\"Helvetica,sans-Serif\" font-size=\"14.00\">class = BaSq</text>\r\n",
       "</g>\r\n",
       "<!-- 5&#45;&gt;6 -->\r\n",
       "<g id=\"edge6\" class=\"edge\"><title>5&#45;&gt;6</title>\r\n",
       "<path fill=\"none\" stroke=\"black\" d=\"M396.008,-103.726C387.845,-94.6054 379.186,-84.93 371.022,-75.8078\"/>\r\n",
       "<polygon fill=\"black\" stroke=\"black\" points=\"373.579,-73.417 364.302,-68.2996 368.363,-78.0853 373.579,-73.417\"/>\r\n",
       "</g>\r\n",
       "<!-- 7 -->\r\n",
       "<g id=\"node8\" class=\"node\"><title>7</title>\r\n",
       "<path fill=\"#8139e5\" stroke=\"black\" d=\"M514,-68C514,-68 425,-68 425,-68 419,-68 413,-62 413,-56 413,-56 413,-12 413,-12 413,-6 419,-0 425,-0 425,-0 514,-0 514,-0 520,-0 526,-6 526,-12 526,-12 526,-56 526,-56 526,-62 520,-68 514,-68\"/>\r\n",
       "<text text-anchor=\"middle\" x=\"469.5\" y=\"-52.8\" font-family=\"Helvetica,sans-Serif\" font-size=\"14.00\">entropy = 0.0</text>\r\n",
       "<text text-anchor=\"middle\" x=\"469.5\" y=\"-37.8\" font-family=\"Helvetica,sans-Serif\" font-size=\"14.00\">samples = 1</text>\r\n",
       "<text text-anchor=\"middle\" x=\"469.5\" y=\"-22.8\" font-family=\"Helvetica,sans-Serif\" font-size=\"14.00\">value = [0, 0, 1]</text>\r\n",
       "<text text-anchor=\"middle\" x=\"469.5\" y=\"-7.8\" font-family=\"Helvetica,sans-Serif\" font-size=\"14.00\">class = GU</text>\r\n",
       "</g>\r\n",
       "<!-- 5&#45;&gt;7 -->\r\n",
       "<g id=\"edge7\" class=\"edge\"><title>5&#45;&gt;7</title>\r\n",
       "<path fill=\"none\" stroke=\"black\" d=\"M446.277,-103.726C449.113,-95.3351 452.107,-86.4745 454.968,-78.0072\"/>\r\n",
       "<polygon fill=\"black\" stroke=\"black\" points=\"458.363,-78.8938 458.248,-68.2996 451.731,-76.6529 458.363,-78.8938\"/>\r\n",
       "</g>\r\n",
       "<!-- 9 -->\r\n",
       "<g id=\"node10\" class=\"node\"><title>9</title>\r\n",
       "<path fill=\"#4de88e\" stroke=\"black\" d=\"M701,-187C701,-187 588,-187 588,-187 582,-187 576,-181 576,-175 576,-175 576,-116 576,-116 576,-110 582,-104 588,-104 588,-104 701,-104 701,-104 707,-104 713,-110 713,-116 713,-116 713,-175 713,-175 713,-181 707,-187 701,-187\"/>\r\n",
       "<text text-anchor=\"middle\" x=\"644.5\" y=\"-171.8\" font-family=\"Helvetica,sans-Serif\" font-size=\"14.00\">FGFR3 &lt;= 0.75</text>\r\n",
       "<text text-anchor=\"middle\" x=\"644.5\" y=\"-156.8\" font-family=\"Helvetica,sans-Serif\" font-size=\"14.00\">entropy = 0.446</text>\r\n",
       "<text text-anchor=\"middle\" x=\"644.5\" y=\"-141.8\" font-family=\"Helvetica,sans-Serif\" font-size=\"14.00\">samples = 140</text>\r\n",
       "<text text-anchor=\"middle\" x=\"644.5\" y=\"-126.8\" font-family=\"Helvetica,sans-Serif\" font-size=\"14.00\">value = [0, 127, 13]</text>\r\n",
       "<text text-anchor=\"middle\" x=\"644.5\" y=\"-111.8\" font-family=\"Helvetica,sans-Serif\" font-size=\"14.00\">class = Uro</text>\r\n",
       "</g>\r\n",
       "<!-- 8&#45;&gt;9 -->\r\n",
       "<g id=\"edge9\" class=\"edge\"><title>8&#45;&gt;9</title>\r\n",
       "<path fill=\"none\" stroke=\"black\" d=\"M644.5,-222.907C644.5,-214.649 644.5,-205.864 644.5,-197.302\"/>\r\n",
       "<polygon fill=\"black\" stroke=\"black\" points=\"648,-197.021 644.5,-187.021 641,-197.021 648,-197.021\"/>\r\n",
       "</g>\r\n",
       "<!-- 12 -->\r\n",
       "<g id=\"node13\" class=\"node\"><title>12</title>\r\n",
       "<path fill=\"#f5cfb3\" stroke=\"black\" d=\"M943,-187C943,-187 838,-187 838,-187 832,-187 826,-181 826,-175 826,-175 826,-116 826,-116 826,-110 832,-104 838,-104 838,-104 943,-104 943,-104 949,-104 955,-110 955,-116 955,-116 955,-175 955,-175 955,-181 949,-187 943,-187\"/>\r\n",
       "<text text-anchor=\"middle\" x=\"890.5\" y=\"-171.8\" font-family=\"Helvetica,sans-Serif\" font-size=\"14.00\">KRT14 &lt;= 1.425</text>\r\n",
       "<text text-anchor=\"middle\" x=\"890.5\" y=\"-156.8\" font-family=\"Helvetica,sans-Serif\" font-size=\"14.00\">entropy = 0.959</text>\r\n",
       "<text text-anchor=\"middle\" x=\"890.5\" y=\"-141.8\" font-family=\"Helvetica,sans-Serif\" font-size=\"14.00\">samples = 42</text>\r\n",
       "<text text-anchor=\"middle\" x=\"890.5\" y=\"-126.8\" font-family=\"Helvetica,sans-Serif\" font-size=\"14.00\">value = [26, 16, 0]</text>\r\n",
       "<text text-anchor=\"middle\" x=\"890.5\" y=\"-111.8\" font-family=\"Helvetica,sans-Serif\" font-size=\"14.00\">class = BaSq</text>\r\n",
       "</g>\r\n",
       "<!-- 8&#45;&gt;12 -->\r\n",
       "<g id=\"edge12\" class=\"edge\"><title>8&#45;&gt;12</title>\r\n",
       "<path fill=\"none\" stroke=\"black\" d=\"M717.642,-228.713C748.966,-213.815 785.483,-196.447 816.861,-181.523\"/>\r\n",
       "<polygon fill=\"black\" stroke=\"black\" points=\"818.466,-184.636 825.993,-177.18 815.459,-178.314 818.466,-184.636\"/>\r\n",
       "</g>\r\n",
       "<!-- 10 -->\r\n",
       "<g id=\"node11\" class=\"node\"><title>10</title>\r\n",
       "<path fill=\"#7beeab\" stroke=\"black\" d=\"M661,-68C661,-68 556,-68 556,-68 550,-68 544,-62 544,-56 544,-56 544,-12 544,-12 544,-6 550,-0 556,-0 556,-0 661,-0 661,-0 667,-0 673,-6 673,-12 673,-12 673,-56 673,-56 673,-62 667,-68 661,-68\"/>\r\n",
       "<text text-anchor=\"middle\" x=\"608.5\" y=\"-52.8\" font-family=\"Helvetica,sans-Serif\" font-size=\"14.00\">entropy = 0.811</text>\r\n",
       "<text text-anchor=\"middle\" x=\"608.5\" y=\"-37.8\" font-family=\"Helvetica,sans-Serif\" font-size=\"14.00\">samples = 48</text>\r\n",
       "<text text-anchor=\"middle\" x=\"608.5\" y=\"-22.8\" font-family=\"Helvetica,sans-Serif\" font-size=\"14.00\">value = [0, 36, 12]</text>\r\n",
       "<text text-anchor=\"middle\" x=\"608.5\" y=\"-7.8\" font-family=\"Helvetica,sans-Serif\" font-size=\"14.00\">class = Uro</text>\r\n",
       "</g>\r\n",
       "<!-- 9&#45;&gt;10 -->\r\n",
       "<g id=\"edge10\" class=\"edge\"><title>9&#45;&gt;10</title>\r\n",
       "<path fill=\"none\" stroke=\"black\" d=\"M631.095,-103.726C628.336,-95.3351 625.423,-86.4745 622.639,-78.0072\"/>\r\n",
       "<polygon fill=\"black\" stroke=\"black\" points=\"625.896,-76.7062 619.448,-68.2996 619.246,-78.8925 625.896,-76.7062\"/>\r\n",
       "</g>\r\n",
       "<!-- 11 -->\r\n",
       "<g id=\"node12\" class=\"node\"><title>11</title>\r\n",
       "<path fill=\"#3be582\" stroke=\"black\" d=\"M800,-68C800,-68 703,-68 703,-68 697,-68 691,-62 691,-56 691,-56 691,-12 691,-12 691,-6 697,-0 703,-0 703,-0 800,-0 800,-0 806,-0 812,-6 812,-12 812,-12 812,-56 812,-56 812,-62 806,-68 800,-68\"/>\r\n",
       "<text text-anchor=\"middle\" x=\"751.5\" y=\"-52.8\" font-family=\"Helvetica,sans-Serif\" font-size=\"14.00\">entropy = 0.087</text>\r\n",
       "<text text-anchor=\"middle\" x=\"751.5\" y=\"-37.8\" font-family=\"Helvetica,sans-Serif\" font-size=\"14.00\">samples = 92</text>\r\n",
       "<text text-anchor=\"middle\" x=\"751.5\" y=\"-22.8\" font-family=\"Helvetica,sans-Serif\" font-size=\"14.00\">value = [0, 91, 1]</text>\r\n",
       "<text text-anchor=\"middle\" x=\"751.5\" y=\"-7.8\" font-family=\"Helvetica,sans-Serif\" font-size=\"14.00\">class = Uro</text>\r\n",
       "</g>\r\n",
       "<!-- 9&#45;&gt;11 -->\r\n",
       "<g id=\"edge11\" class=\"edge\"><title>9&#45;&gt;11</title>\r\n",
       "<path fill=\"none\" stroke=\"black\" d=\"M684.343,-103.726C693.345,-94.5142 702.899,-84.7364 711.891,-75.5343\"/>\r\n",
       "<polygon fill=\"black\" stroke=\"black\" points=\"714.475,-77.898 718.961,-68.2996 709.468,-73.0057 714.475,-77.898\"/>\r\n",
       "</g>\r\n",
       "<!-- 13 -->\r\n",
       "<g id=\"node14\" class=\"node\"><title>13</title>\r\n",
       "<path fill=\"#77eda8\" stroke=\"black\" d=\"M939,-68C939,-68 842,-68 842,-68 836,-68 830,-62 830,-56 830,-56 830,-12 830,-12 830,-6 836,-0 842,-0 842,-0 939,-0 939,-0 945,-0 951,-6 951,-12 951,-12 951,-56 951,-56 951,-62 945,-68 939,-68\"/>\r\n",
       "<text text-anchor=\"middle\" x=\"890.5\" y=\"-52.8\" font-family=\"Helvetica,sans-Serif\" font-size=\"14.00\">entropy = 0.792</text>\r\n",
       "<text text-anchor=\"middle\" x=\"890.5\" y=\"-37.8\" font-family=\"Helvetica,sans-Serif\" font-size=\"14.00\">samples = 21</text>\r\n",
       "<text text-anchor=\"middle\" x=\"890.5\" y=\"-22.8\" font-family=\"Helvetica,sans-Serif\" font-size=\"14.00\">value = [5, 16, 0]</text>\r\n",
       "<text text-anchor=\"middle\" x=\"890.5\" y=\"-7.8\" font-family=\"Helvetica,sans-Serif\" font-size=\"14.00\">class = Uro</text>\r\n",
       "</g>\r\n",
       "<!-- 12&#45;&gt;13 -->\r\n",
       "<g id=\"edge13\" class=\"edge\"><title>12&#45;&gt;13</title>\r\n",
       "<path fill=\"none\" stroke=\"black\" d=\"M890.5,-103.726C890.5,-95.5175 890.5,-86.8595 890.5,-78.56\"/>\r\n",
       "<polygon fill=\"black\" stroke=\"black\" points=\"894,-78.2996 890.5,-68.2996 887,-78.2996 894,-78.2996\"/>\r\n",
       "</g>\r\n",
       "<!-- 14 -->\r\n",
       "<g id=\"node15\" class=\"node\"><title>14</title>\r\n",
       "<path fill=\"#e58139\" stroke=\"black\" d=\"M1078,-68C1078,-68 981,-68 981,-68 975,-68 969,-62 969,-56 969,-56 969,-12 969,-12 969,-6 975,-0 981,-0 981,-0 1078,-0 1078,-0 1084,-0 1090,-6 1090,-12 1090,-12 1090,-56 1090,-56 1090,-62 1084,-68 1078,-68\"/>\r\n",
       "<text text-anchor=\"middle\" x=\"1029.5\" y=\"-52.8\" font-family=\"Helvetica,sans-Serif\" font-size=\"14.00\">entropy = 0.0</text>\r\n",
       "<text text-anchor=\"middle\" x=\"1029.5\" y=\"-37.8\" font-family=\"Helvetica,sans-Serif\" font-size=\"14.00\">samples = 21</text>\r\n",
       "<text text-anchor=\"middle\" x=\"1029.5\" y=\"-22.8\" font-family=\"Helvetica,sans-Serif\" font-size=\"14.00\">value = [21, 0, 0]</text>\r\n",
       "<text text-anchor=\"middle\" x=\"1029.5\" y=\"-7.8\" font-family=\"Helvetica,sans-Serif\" font-size=\"14.00\">class = BaSq</text>\r\n",
       "</g>\r\n",
       "<!-- 12&#45;&gt;14 -->\r\n",
       "<g id=\"edge14\" class=\"edge\"><title>12&#45;&gt;14</title>\r\n",
       "<path fill=\"none\" stroke=\"black\" d=\"M942.258,-103.726C954.3,-94.2406 967.102,-84.1551 979.084,-74.7159\"/>\r\n",
       "<polygon fill=\"black\" stroke=\"black\" points=\"981.54,-77.2372 987.229,-68.2996 977.208,-71.7385 981.54,-77.2372\"/>\r\n",
       "</g>\r\n",
       "</g>\r\n",
       "</svg>\r\n"
      ],
      "text/plain": [
       "<graphviz.files.Source at 0x237ac8a3910>"
      ]
     },
     "execution_count": 193,
     "metadata": {},
     "output_type": "execute_result"
    }
   ],
   "source": [
    "# Visualize the tree by graphiz\n",
    "import graphviz\n",
    "from sklearn import tree\n",
    "from IPython.display import Image\n",
    "from IPython.display import Image  \n",
    "\n",
    "feature_names = [\"KRT14\", \"KRT5\", \"FOXA1\", \"GATA3\",  \"RB1\" , \"CCND1\", \"CDKN2Ap16\", \"FGFR3\"]\n",
    "dot_data = tree.export_graphviz(classifier, out_file=None, filled=True,feature_names = feature_names, rounded = True, class_names=class_names)\n",
    "graph = graphviz.Source(dot_data)\n",
    "graph\n",
    "#graph.render('round-table.pdf', view=True)  "
   ]
  },
  {
   "cell_type": "code",
   "execution_count": 194,
   "metadata": {},
   "outputs": [
    {
     "name": "stdout",
     "output_type": "stream",
     "text": [
      "Uro     195\n",
      "GU      109\n",
      "BaSq     57\n",
      "Name: Subtype_IHC, dtype: int64\n",
      "[0 0 1 0 0 1 0 2 0 1 0 1 2 0 1 0 0 0 0]\n"
     ]
    }
   ],
   "source": [
    "df = data\n",
    "print(df.Subtype_IHC.value_counts())\n",
    "#________________this code chunk do the job but reset categorical variable level________#\n",
    "# create a column to encode Subtype_IHC to numerical \n",
    "#df.Subtype_IHC = pd.Categorical(df.Subtype_IHC)\n",
    "#df['target'] = df.Subtype_IHC.cat.codes\n",
    "\n",
    "X = df[[\"KRT14\", \"KRT5\", \"FOXA1\", \"GATA3\",  \"RB1\" , \"CCND1\", \"CDKN2Ap16\", \"FGFR3\"]].values\n",
    "y = data.Subtype_IHC.values\n",
    "\n",
    "# Binarize the output\n",
    "y,class_names = pd.factorize(y)\n",
    "print(y[1:20])\n",
    "y = label_binarize(y, classes=[0, 1, 2])\n",
    "n_classes = y.shape[1]\n"
   ]
  },
  {
   "cell_type": "code",
   "execution_count": 195,
   "metadata": {},
   "outputs": [
    {
     "data": {
      "image/png": "[encoded data removed]",
      "text/plain": [
       "<Figure size 432x288 with 1 Axes>"
      ]
     },
     "metadata": {
      "needs_background": "light"
     },
     "output_type": "display_data"
    }
   ],
   "source": [
    "X_train, X_test, y_train, y_test = train_test_split(X, y, test_size = 0.25, stratify=y, random_state = 42)\n",
    "\n",
    "# \n",
    "classifier_2 = OneVsRestClassifier(DecisionTreeClassifier(criterion='entropy',max_depth=3, random_state=42))\n",
    "y_score = classifier_2.fit(X_train, y_train).predict_proba(X_test)\n",
    "\n",
    "fpr = dict()\n",
    "tpr = dict()\n",
    "roc_auc = dict()\n",
    "for i in range(n_classes):\n",
    "    fpr[i], tpr[i], _ = roc_curve(y_test[:, i], y_score[:, i])\n",
    "    roc_auc[i] = auc(fpr[i], tpr[i])\n",
    "colors = cycle(['blue', 'red', 'green'])\n",
    "lw = 1\n",
    "for i, color in zip(range(n_classes), colors):\n",
    "    plt.plot(fpr[i], tpr[i], color=color, lw=lw,\n",
    "             label='ROC curve of class {0} (area = {1:0.2f})'\n",
    "             ''.format(i, roc_auc[i]))\n",
    "\n",
    "plt.plot([0, 1], [0, 1], 'k--', lw=lw)\n",
    "plt.xlim([-0.05, 1.0])\n",
    "plt.ylim([0.0, 1.05])\n",
    "plt.xlabel('False Positive Rate')\n",
    "plt.ylabel('True Positive Rate')\n",
    "plt.title('Receiver operating characteristic for multi-class data')\n",
    "plt.legend(loc=\"lower right\")\n",
    "plt.show()"
   ]
  },
  {
   "cell_type": "markdown",
   "metadata": {},
   "source": [
    "## NMIBC dataset"
   ]
  },
  {
   "cell_type": "markdown",
   "metadata": {},
   "source": [
    "______________________________________________________________________________________________________________________________________________"
   ]
  },
  {
   "cell_type": "code",
   "execution_count": 202,
   "metadata": {},
   "outputs": [
    {
     "name": "stdout",
     "output_type": "stream",
     "text": [
      "(268, 30)\n"
     ]
    }
   ],
   "source": [
    "data2019 = pd.read_csv(\"C://Users/qaedi/Desktop/Lund_reverse_validation/6.IJC_2019_PtLevel.csv\")\n",
    "data2019.head()\n",
    "\n",
    "# Review missing data in the demographic information\n",
    "#print(data2019.isnull().sum())\n",
    "\n",
    "# dropping NAs from Subtype_IHC\n",
    "data2019 = data2019.dropna(subset=['Subtype_IHC'])\n",
    "#print(data2019.isnull().sum())\n",
    "\n",
    "print(data2019.shape)\n",
    "\n",
    "# slicing based on columns\n",
    "d2019 = data2019.iloc[:, 15:30]\n",
    "data2019 = pd.concat([data2019.iloc[:, 6], d2019], axis=1)"
   ]
  },
  {
   "cell_type": "code",
   "execution_count": 203,
   "metadata": {},
   "outputs": [
    {
     "name": "stdout",
     "output_type": "stream",
     "text": [
      "\n",
      "Subtype_IHC     0\n",
      "CCNB1           5\n",
      "CCND1           0\n",
      "CDH1            2\n",
      "CDKN2Ap16       0\n",
      "EPCAM           4\n",
      "ERBB2          13\n",
      "FGFR3           0\n",
      "FOXA1           0\n",
      "GATA3           0\n",
      "KRT14           0\n",
      "KRT5            0\n",
      "RB1             0\n",
      "TUBB2B          3\n",
      "VIM             4\n",
      "ZEB2            1\n",
      "dtype: int64\n",
      "Uro      192\n",
      "GU        55\n",
      "BaSq       8\n",
      "Mes-L      7\n",
      "Sc/NE      6\n",
      "Name: Subtype_IHC, dtype: int64\n",
      "Uro     195\n",
      "GU      109\n",
      "BaSq     57\n",
      "Name: Subtype_IHC, dtype: int64\n"
     ]
    }
   ],
   "source": [
    "feat =  [\"KRT14\", \"KRT5\", \"FOXA1\", \"GATA3\",  \"RB1\" , \"CCND1\", \"CDKN2Ap16\", \"FGFR3\"]\n",
    "\n",
    "for gene in feat:\n",
    "    data2019[gene] = data2019[gene].fillna(data2019.groupby('Subtype_IHC')[gene].transform('mean'))\n",
    "\n",
    "print(\"\")\n",
    "print(data2019.isnull().sum())\n",
    "\n",
    "#making subset\n",
    "data2019 = data2019[[\"Subtype_IHC\",\"KRT14\", \"KRT5\", \"FOXA1\", \"GATA3\",  \"RB1\" , \"CCND1\", \"CDKN2Ap16\", \"FGFR3\"]]\n",
    "\n",
    "print(data2019.Subtype_IHC.value_counts())\n",
    "\n",
    "#Uro      192\n",
    "#GU        55\n",
    "#BaSq       8\n",
    "#Mes-L      7\n",
    "#Sc/NE      6\n",
    "\n",
    "# drop values from subtype_IHC column\n",
    "data2019 = data2019.drop(data2019[(data2019['Subtype_IHC'] == 'Mes-L') | (data2019['Subtype_IHC'] == 'Sc/NE')].index)\n",
    "print(data.Subtype_IHC.value_counts())\n"
   ]
  },
  {
   "cell_type": "code",
   "execution_count": 204,
   "metadata": {},
   "outputs": [],
   "source": [
    "X2019 = data2019[[\"KRT14\", \"KRT5\", \"FOXA1\", \"GATA3\",  \"RB1\" , \"CCND1\", \"CDKN2Ap16\", \"FGFR3\"]].values\n",
    "y2019 = data2019.Subtype_IHC.values\n",
    "\n",
    "# encode IHC subtype as a dummy variable\n",
    "y2019,class_names = pd.factorize(y2019)\n",
    "\n",
    "y2019_pred=classifier.predict(X2019)\n"
   ]
  },
  {
   "cell_type": "code",
   "execution_count": 205,
   "metadata": {},
   "outputs": [
    {
     "name": "stdout",
     "output_type": "stream",
     "text": [
      "Classification results on validation set\n",
      "Accuracy: 0.90\n",
      "Confusion Matrix: \n",
      " [[  6   1   1]\n",
      " [  0 186   6]\n",
      " [  0  17  38]]\n",
      "              precision    recall  f1-score   support\n",
      "\n",
      "           0       1.00      0.75      0.86         8\n",
      "           1       0.91      0.97      0.94       192\n",
      "           2       0.84      0.69      0.76        55\n",
      "\n",
      "    accuracy                           0.90       255\n",
      "   macro avg       0.92      0.80      0.85       255\n",
      "weighted avg       0.90      0.90      0.90       255\n",
      "\n"
     ]
    }
   ],
   "source": [
    "# Classification results on validation set\n",
    "print('Classification results on validation set')\n",
    "accuracy = metrics.accuracy_score(y2019, y2019_pred)\n",
    "print(\"Accuracy: {:.2f}\".format(accuracy))\n",
    "cm=confusion_matrix(y2019,y2019_pred)\n",
    "print('Confusion Matrix: \\n', cm)\n",
    "print(classification_report(y2019, y2019_pred))"
   ]
  },
  {
   "cell_type": "code",
   "execution_count": null,
   "metadata": {},
   "outputs": [],
   "source": []
  },
  {
   "cell_type": "code",
   "execution_count": null,
   "metadata": {},
   "outputs": [],
   "source": []
  }
 ],
 "metadata": {
  "kernelspec": {
   "display_name": "Python 3",
   "language": "python",
   "name": "python3"
  },
  "language_info": {
   "codemirror_mode": {
    "name": "ipython",
    "version": 3
   },
   "file_extension": ".py",
   "mimetype": "text/x-python",
   "name": "python",
   "nbconvert_exporter": "python",
   "pygments_lexer": "ipython3",
   "version": "3.8.3"
  }
 },
 "nbformat": 4,
 "nbformat_minor": 4
}
